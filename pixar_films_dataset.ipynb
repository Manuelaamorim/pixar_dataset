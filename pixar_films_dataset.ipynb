{
  "nbformat": 4,
  "nbformat_minor": 0,
  "metadata": {
    "colab": {
      "provenance": [],
      "authorship_tag": "ABX9TyPu/n2DsqPVoRspa7hw9RJv",
      "include_colab_link": true
    },
    "kernelspec": {
      "name": "python3",
      "display_name": "Python 3"
    },
    "language_info": {
      "name": "python"
    }
  },
  "cells": [
    {
      "cell_type": "markdown",
      "metadata": {
        "id": "view-in-github",
        "colab_type": "text"
      },
      "source": [
        "<a href=\"https://colab.research.google.com/github/Manuelaamorim/pixar_dataset/blob/main/pixar_films_dataset.ipynb\" target=\"_parent\"><img src=\"https://colab.research.google.com/assets/colab-badge.svg\" alt=\"Open In Colab\"/></a>"
      ]
    },
    {
      "cell_type": "code",
      "execution_count": 2,
      "metadata": {
        "id": "u2Bsc7o7iywc"
      },
      "outputs": [],
      "source": [
        "import pandas as pd\n",
        "import numpy as np"
      ]
    },
    {
      "cell_type": "code",
      "source": [
        "from google.colab import files\n",
        "uploaded = files.upload()"
      ],
      "metadata": {
        "colab": {
          "base_uri": "https://localhost:8080/",
          "height": 73
        },
        "id": "ek1QXeo3jBTR",
        "outputId": "cf19e5e1-c0d0-4243-af47-74bd062e1206"
      },
      "execution_count": 3,
      "outputs": [
        {
          "output_type": "display_data",
          "data": {
            "text/plain": [
              "<IPython.core.display.HTML object>"
            ],
            "text/html": [
              "\n",
              "     <input type=\"file\" id=\"files-2e46441a-0092-4a81-8448-a6d8a91be534\" name=\"files[]\" multiple disabled\n",
              "        style=\"border:none\" />\n",
              "     <output id=\"result-2e46441a-0092-4a81-8448-a6d8a91be534\">\n",
              "      Upload widget is only available when the cell has been executed in the\n",
              "      current browser session. Please rerun this cell to enable.\n",
              "      </output>\n",
              "      <script>// Copyright 2017 Google LLC\n",
              "//\n",
              "// Licensed under the Apache License, Version 2.0 (the \"License\");\n",
              "// you may not use this file except in compliance with the License.\n",
              "// You may obtain a copy of the License at\n",
              "//\n",
              "//      http://www.apache.org/licenses/LICENSE-2.0\n",
              "//\n",
              "// Unless required by applicable law or agreed to in writing, software\n",
              "// distributed under the License is distributed on an \"AS IS\" BASIS,\n",
              "// WITHOUT WARRANTIES OR CONDITIONS OF ANY KIND, either express or implied.\n",
              "// See the License for the specific language governing permissions and\n",
              "// limitations under the License.\n",
              "\n",
              "/**\n",
              " * @fileoverview Helpers for google.colab Python module.\n",
              " */\n",
              "(function(scope) {\n",
              "function span(text, styleAttributes = {}) {\n",
              "  const element = document.createElement('span');\n",
              "  element.textContent = text;\n",
              "  for (const key of Object.keys(styleAttributes)) {\n",
              "    element.style[key] = styleAttributes[key];\n",
              "  }\n",
              "  return element;\n",
              "}\n",
              "\n",
              "// Max number of bytes which will be uploaded at a time.\n",
              "const MAX_PAYLOAD_SIZE = 100 * 1024;\n",
              "\n",
              "function _uploadFiles(inputId, outputId) {\n",
              "  const steps = uploadFilesStep(inputId, outputId);\n",
              "  const outputElement = document.getElementById(outputId);\n",
              "  // Cache steps on the outputElement to make it available for the next call\n",
              "  // to uploadFilesContinue from Python.\n",
              "  outputElement.steps = steps;\n",
              "\n",
              "  return _uploadFilesContinue(outputId);\n",
              "}\n",
              "\n",
              "// This is roughly an async generator (not supported in the browser yet),\n",
              "// where there are multiple asynchronous steps and the Python side is going\n",
              "// to poll for completion of each step.\n",
              "// This uses a Promise to block the python side on completion of each step,\n",
              "// then passes the result of the previous step as the input to the next step.\n",
              "function _uploadFilesContinue(outputId) {\n",
              "  const outputElement = document.getElementById(outputId);\n",
              "  const steps = outputElement.steps;\n",
              "\n",
              "  const next = steps.next(outputElement.lastPromiseValue);\n",
              "  return Promise.resolve(next.value.promise).then((value) => {\n",
              "    // Cache the last promise value to make it available to the next\n",
              "    // step of the generator.\n",
              "    outputElement.lastPromiseValue = value;\n",
              "    return next.value.response;\n",
              "  });\n",
              "}\n",
              "\n",
              "/**\n",
              " * Generator function which is called between each async step of the upload\n",
              " * process.\n",
              " * @param {string} inputId Element ID of the input file picker element.\n",
              " * @param {string} outputId Element ID of the output display.\n",
              " * @return {!Iterable<!Object>} Iterable of next steps.\n",
              " */\n",
              "function* uploadFilesStep(inputId, outputId) {\n",
              "  const inputElement = document.getElementById(inputId);\n",
              "  inputElement.disabled = false;\n",
              "\n",
              "  const outputElement = document.getElementById(outputId);\n",
              "  outputElement.innerHTML = '';\n",
              "\n",
              "  const pickedPromise = new Promise((resolve) => {\n",
              "    inputElement.addEventListener('change', (e) => {\n",
              "      resolve(e.target.files);\n",
              "    });\n",
              "  });\n",
              "\n",
              "  const cancel = document.createElement('button');\n",
              "  inputElement.parentElement.appendChild(cancel);\n",
              "  cancel.textContent = 'Cancel upload';\n",
              "  const cancelPromise = new Promise((resolve) => {\n",
              "    cancel.onclick = () => {\n",
              "      resolve(null);\n",
              "    };\n",
              "  });\n",
              "\n",
              "  // Wait for the user to pick the files.\n",
              "  const files = yield {\n",
              "    promise: Promise.race([pickedPromise, cancelPromise]),\n",
              "    response: {\n",
              "      action: 'starting',\n",
              "    }\n",
              "  };\n",
              "\n",
              "  cancel.remove();\n",
              "\n",
              "  // Disable the input element since further picks are not allowed.\n",
              "  inputElement.disabled = true;\n",
              "\n",
              "  if (!files) {\n",
              "    return {\n",
              "      response: {\n",
              "        action: 'complete',\n",
              "      }\n",
              "    };\n",
              "  }\n",
              "\n",
              "  for (const file of files) {\n",
              "    const li = document.createElement('li');\n",
              "    li.append(span(file.name, {fontWeight: 'bold'}));\n",
              "    li.append(span(\n",
              "        `(${file.type || 'n/a'}) - ${file.size} bytes, ` +\n",
              "        `last modified: ${\n",
              "            file.lastModifiedDate ? file.lastModifiedDate.toLocaleDateString() :\n",
              "                                    'n/a'} - `));\n",
              "    const percent = span('0% done');\n",
              "    li.appendChild(percent);\n",
              "\n",
              "    outputElement.appendChild(li);\n",
              "\n",
              "    const fileDataPromise = new Promise((resolve) => {\n",
              "      const reader = new FileReader();\n",
              "      reader.onload = (e) => {\n",
              "        resolve(e.target.result);\n",
              "      };\n",
              "      reader.readAsArrayBuffer(file);\n",
              "    });\n",
              "    // Wait for the data to be ready.\n",
              "    let fileData = yield {\n",
              "      promise: fileDataPromise,\n",
              "      response: {\n",
              "        action: 'continue',\n",
              "      }\n",
              "    };\n",
              "\n",
              "    // Use a chunked sending to avoid message size limits. See b/62115660.\n",
              "    let position = 0;\n",
              "    do {\n",
              "      const length = Math.min(fileData.byteLength - position, MAX_PAYLOAD_SIZE);\n",
              "      const chunk = new Uint8Array(fileData, position, length);\n",
              "      position += length;\n",
              "\n",
              "      const base64 = btoa(String.fromCharCode.apply(null, chunk));\n",
              "      yield {\n",
              "        response: {\n",
              "          action: 'append',\n",
              "          file: file.name,\n",
              "          data: base64,\n",
              "        },\n",
              "      };\n",
              "\n",
              "      let percentDone = fileData.byteLength === 0 ?\n",
              "          100 :\n",
              "          Math.round((position / fileData.byteLength) * 100);\n",
              "      percent.textContent = `${percentDone}% done`;\n",
              "\n",
              "    } while (position < fileData.byteLength);\n",
              "  }\n",
              "\n",
              "  // All done.\n",
              "  yield {\n",
              "    response: {\n",
              "      action: 'complete',\n",
              "    }\n",
              "  };\n",
              "}\n",
              "\n",
              "scope.google = scope.google || {};\n",
              "scope.google.colab = scope.google.colab || {};\n",
              "scope.google.colab._files = {\n",
              "  _uploadFiles,\n",
              "  _uploadFilesContinue,\n",
              "};\n",
              "})(self);\n",
              "</script> "
            ]
          },
          "metadata": {}
        },
        {
          "output_type": "stream",
          "name": "stdout",
          "text": [
            "Saving films.csv to films.csv\n"
          ]
        }
      ]
    },
    {
      "cell_type": "code",
      "source": [
        "data = pd.read_csv(\"films.csv\")\n",
        "\n",
        "\n",
        "\n"
      ],
      "metadata": {
        "colab": {
          "base_uri": "https://localhost:8080/"
        },
        "id": "g1fv4lzXjWXl",
        "outputId": "503d83ef-0818-4749-d6c7-79a265cf8191"
      },
      "execution_count": 6,
      "outputs": [
        {
          "output_type": "stream",
          "name": "stdout",
          "text": [
            "Probabilidade de um filme ter IMDB > 7: 0.79\n"
          ]
        }
      ]
    },
    {
      "cell_type": "markdown",
      "source": [
        "### Probabilidade simples\n"
      ],
      "metadata": {
        "id": "a8byp6UU1Nuo"
      }
    },
    {
      "cell_type": "code",
      "source": [
        "# probabilidade simples de um filme ter nota superior a 7 no IMDB\n",
        "total_filmes = len(data)\n",
        "maior = sum(1 for score in data['imdb_score'] if score > 7)\n",
        "probabilidade_imdb = maior/total_filmes\n",
        "print(f\"Probabilidade de um filme ter IMDB > 7: {probabilidade_imdb}\")"
      ],
      "metadata": {
        "colab": {
          "base_uri": "https://localhost:8080/"
        },
        "id": "NSdpj1vLs6jq",
        "outputId": "1dff1b2a-0508-4852-bd15-6374d0884deb"
      },
      "execution_count": 9,
      "outputs": [
        {
          "output_type": "stream",
          "name": "stdout",
          "text": [
            "Probabilidade de um filme ter IMDB > 7: 0.7857142857142857\n"
          ]
        }
      ]
    },
    {
      "cell_type": "code",
      "source": [
        "# probabilidade simples de um filme ser classificado como PG\n",
        "total_filmes = len(data)\n",
        "filmes_pg = sum(1 for rating in data['film_rating'] if rating == \"PG\")\n",
        "prob_pg = filmes_pg / total_filmes\n",
        "print(f\"Probabilidade de um filme ser PG: {prob_pg}\")\n",
        "\n"
      ],
      "metadata": {
        "colab": {
          "base_uri": "https://localhost:8080/"
        },
        "id": "3cDApyMhtXga",
        "outputId": "806543ab-59a2-4937-f1ff-08ff4309a8b7"
      },
      "execution_count": 11,
      "outputs": [
        {
          "output_type": "stream",
          "name": "stdout",
          "text": [
            "Probabilidade de um filme ser PG: 0.5357142857142857\n",
            "['G' 'PG']\n"
          ]
        }
      ]
    },
    {
      "cell_type": "code",
      "source": [
        "# Probabilidade de quantos filmes têm Rotten Tomatoes Score maior que 70\n",
        "filmes_rotten_maior_70 = sum(1 for score in data['rotten_tomatoes_score'] if score > 70)\n",
        "prob_rotten = filmes_rotten_maior_70 / total_filmes\n",
        "\n",
        "print(f\"Probabilidade de um filme ter Rotten Tomatoes Score > 70: {prob_rotten}\")\n"
      ],
      "metadata": {
        "colab": {
          "base_uri": "https://localhost:8080/"
        },
        "id": "OGTU90tgvg92",
        "outputId": "5deee17b-397c-460a-d356-fb0285e105d8"
      },
      "execution_count": 13,
      "outputs": [
        {
          "output_type": "stream",
          "name": "stdout",
          "text": [
            "Probabilidade de um filme ter Rotten Tomatoes Score > 70: 0.9285714285714286\n"
          ]
        }
      ]
    },
    {
      "cell_type": "code",
      "source": [
        "# Probabilidade simples dos filmes terem orçamento acima de 50M\n",
        "filmes_orcamento_maior_50M = sum(1 for budget in data['budget'] if budget > 50000000)\n",
        "prob_orcamento = filmes_orcamento_maior_50M / total_filmes\n",
        "\n",
        "print(f\"Probabilidade de um filme ter orçamento > 50M: {prob_orcamento}\")\n"
      ],
      "metadata": {
        "colab": {
          "base_uri": "https://localhost:8080/"
        },
        "id": "nKpkWSaGuuig",
        "outputId": "86e587fe-43a0-49f7-dd63-f92895fe1efd"
      },
      "execution_count": 12,
      "outputs": [
        {
          "output_type": "stream",
          "name": "stdout",
          "text": [
            "Probabilidade de um filme ter orçamento > 50M: 0.93\n"
          ]
        }
      ]
    },
    {
      "cell_type": "markdown",
      "source": [
        "### Probabilidade com união"
      ],
      "metadata": {
        "id": "eD_1p8eF0_bH"
      }
    },
    {
      "cell_type": "code",
      "source": [
        "# Probabilidade de um filme ter bilheteria nos EUA/Canadá > 50 milhões OU bilheteria no resto do mundo > 100 milhões"
      ],
      "metadata": {
        "id": "_DOcymh3wXbf"
      },
      "execution_count": null,
      "outputs": []
    },
    {
      "cell_type": "code",
      "source": [
        "# Contar filmes com bilheteria nos EUA/Canadá > 50M\n",
        "filmes_us_maior_50M = sum(1 for box in data['box_office_us_canada'] if box > 50000000)\n",
        "\n",
        "# Contar filmes com bilheteria internacional > 100M\n",
        "filmes_outro_maior_100M = sum(1 for box in data['box_office_other'] if box > 100000000)\n",
        "\n",
        "# Contar filmes que atendem ambas as condições\n",
        "filmes_ambos = sum(1 for us, outro in zip(data['box_office_us_canada'], data['box_office_other']) if us > 50000000 and outro > 100000000)\n",
        "\n",
        "# Calcular P(A ∪ B)\n",
        "prob_uniao = (filmes_us_maior_50M + filmes_outro_maior_100M - filmes_ambos) / total_filmes\n",
        "\n",
        "print(f\"Probabilidade de um filme ter bilheteria EUA/Canadá > 50M OU internacional > 100M: {prob_uniao}\")\n"
      ],
      "metadata": {
        "colab": {
          "base_uri": "https://localhost:8080/"
        },
        "id": "6tY_iEwvyv2y",
        "outputId": "64ac8eb4-6cec-4d81-c0dc-eabb4886f225"
      },
      "execution_count": 14,
      "outputs": [
        {
          "output_type": "stream",
          "name": "stdout",
          "text": [
            "Probabilidade de um filme ter bilheteria EUA/Canadá > 50M OU internacional > 100M: 0.9285714285714286\n"
          ]
        }
      ]
    },
    {
      "cell_type": "code",
      "source": [
        "# Probabilidade de um filme ter mais de 1000 avaliações no IMDb OU nota IMDb maior que 8\n",
        "# Contar filmes com mais de 1000 avaliações no IMDb\n",
        "filmes_imdb_contagem_maior_1000 = sum(1 for count in data['imdb_counts'] if count > 1000)\n",
        "\n",
        "# Contar filmes com IMDb Score > 8\n",
        "filmes_imdb_maior_8 = sum(1 for score in data['imdb_score'] if score > 8)\n",
        "\n",
        "# Contar filmes que atendem ambas as condições\n",
        "filmes_ambos = sum(1 for count, score in zip(data['imdb_counts'], data['imdb_score']) if count > 1000 and score > 8)\n",
        "\n",
        "# Calcular P(A ∪ B)\n",
        "prob_uniao = (filmes_imdb_contagem_maior_1000 + filmes_imdb_maior_8 - filmes_ambos) / total_filmes\n",
        "\n",
        "print(f\"Probabilidade de um filme ter mais de 1000 avaliações no IMDb OU nota > 8: {prob_uniao}\")\n"
      ],
      "metadata": {
        "colab": {
          "base_uri": "https://localhost:8080/"
        },
        "id": "xFSeL0Y2zpcX",
        "outputId": "fd2056ff-d6d3-414d-bb60-c2b7c22b2920"
      },
      "execution_count": 15,
      "outputs": [
        {
          "output_type": "stream",
          "name": "stdout",
          "text": [
            "Probabilidade de um filme ter mais de 1000 avaliações no IMDb OU nota > 8: 1.0\n"
          ]
        }
      ]
    },
    {
      "cell_type": "code",
      "source": [
        "# Probabilidade de um filme ter orçamento > 50M OU bilheteria mundial > 100M:\n",
        "total_filmes = len(data)\n",
        "\n",
        "\n",
        "A = np.array(data['budget']) > 50000000  # Filmes com orçamento > 50M\n",
        "B = np.array(data['box_office_worldwide']) > 100000000  # Filmes com bilheteria > 100M\n",
        "\n",
        "# Calcular as probabilidades usando NumPy\n",
        "P_A = np.sum(A) / total_filmes  # Probabilidade de A (budget > 50M)\n",
        "P_B = np.sum(B) / total_filmes  # Probabilidade de B (bilheteria mundial > 100M)\n",
        "P_A_inter_B = np.sum(A & B) / total_filmes  # Probabilidade da interseção (A ∩ B)\n",
        "\n",
        "# Aplicar a fórmula de união\n",
        "P_A_uniao_B = P_A + P_B - P_A_inter_B\n",
        "\n",
        "# Exibir o resultado formatado\n",
        "print(f\"Probabilidade de um filme ter orçamento > 50M OU bilheteria mundial > 100M: {P_A_uniao_B}\")\n"
      ],
      "metadata": {
        "colab": {
          "base_uri": "https://localhost:8080/"
        },
        "id": "GOqJzoHk0n6a",
        "outputId": "9fd2411c-49a6-4ad3-b98d-01a0ad1ff0f2"
      },
      "execution_count": 17,
      "outputs": [
        {
          "output_type": "stream",
          "name": "stdout",
          "text": [
            "Probabilidade de um filme ter orçamento > 50M OU bilheteria mundial > 100M: 0.9642857142857143\n"
          ]
        }
      ]
    }
  ]
}