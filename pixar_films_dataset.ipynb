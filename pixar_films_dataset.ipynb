{
  "nbformat": 4,
  "nbformat_minor": 0,
  "metadata": {
    "colab": {
      "provenance": [],
      "authorship_tag": "ABX9TyOTiPoBEVn0STSu6ovDHgf6",
      "include_colab_link": true
    },
    "kernelspec": {
      "name": "python3",
      "display_name": "Python 3"
    },
    "language_info": {
      "name": "python"
    }
  },
  "cells": [
    {
      "cell_type": "markdown",
      "metadata": {
        "id": "view-in-github",
        "colab_type": "text"
      },
      "source": [
        "<a href=\"https://colab.research.google.com/github/Manuelaamorim/pixar_dataset/blob/main/pixar_films_dataset.ipynb\" target=\"_parent\"><img src=\"https://colab.research.google.com/assets/colab-badge.svg\" alt=\"Open In Colab\"/></a>"
      ]
    },
    {
      "cell_type": "code",
      "execution_count": 1,
      "metadata": {
        "id": "u2Bsc7o7iywc"
      },
      "outputs": [],
      "source": [
        "import pandas as pd\n",
        "import numpy as np"
      ]
    },
    {
      "cell_type": "code",
      "source": [
        "from google.colab import files\n",
        "uploaded = files.upload()"
      ],
      "metadata": {
        "colab": {
          "base_uri": "https://localhost:8080/",
          "height": 73
        },
        "id": "ek1QXeo3jBTR",
        "outputId": "6b4428cc-1574-444d-fd61-beab703cd67a"
      },
      "execution_count": 2,
      "outputs": [
        {
          "output_type": "display_data",
          "data": {
            "text/plain": [
              "<IPython.core.display.HTML object>"
            ],
            "text/html": [
              "\n",
              "     <input type=\"file\" id=\"files-78041442-02b9-47fe-ad37-449c9722d6e8\" name=\"files[]\" multiple disabled\n",
              "        style=\"border:none\" />\n",
              "     <output id=\"result-78041442-02b9-47fe-ad37-449c9722d6e8\">\n",
              "      Upload widget is only available when the cell has been executed in the\n",
              "      current browser session. Please rerun this cell to enable.\n",
              "      </output>\n",
              "      <script>// Copyright 2017 Google LLC\n",
              "//\n",
              "// Licensed under the Apache License, Version 2.0 (the \"License\");\n",
              "// you may not use this file except in compliance with the License.\n",
              "// You may obtain a copy of the License at\n",
              "//\n",
              "//      http://www.apache.org/licenses/LICENSE-2.0\n",
              "//\n",
              "// Unless required by applicable law or agreed to in writing, software\n",
              "// distributed under the License is distributed on an \"AS IS\" BASIS,\n",
              "// WITHOUT WARRANTIES OR CONDITIONS OF ANY KIND, either express or implied.\n",
              "// See the License for the specific language governing permissions and\n",
              "// limitations under the License.\n",
              "\n",
              "/**\n",
              " * @fileoverview Helpers for google.colab Python module.\n",
              " */\n",
              "(function(scope) {\n",
              "function span(text, styleAttributes = {}) {\n",
              "  const element = document.createElement('span');\n",
              "  element.textContent = text;\n",
              "  for (const key of Object.keys(styleAttributes)) {\n",
              "    element.style[key] = styleAttributes[key];\n",
              "  }\n",
              "  return element;\n",
              "}\n",
              "\n",
              "// Max number of bytes which will be uploaded at a time.\n",
              "const MAX_PAYLOAD_SIZE = 100 * 1024;\n",
              "\n",
              "function _uploadFiles(inputId, outputId) {\n",
              "  const steps = uploadFilesStep(inputId, outputId);\n",
              "  const outputElement = document.getElementById(outputId);\n",
              "  // Cache steps on the outputElement to make it available for the next call\n",
              "  // to uploadFilesContinue from Python.\n",
              "  outputElement.steps = steps;\n",
              "\n",
              "  return _uploadFilesContinue(outputId);\n",
              "}\n",
              "\n",
              "// This is roughly an async generator (not supported in the browser yet),\n",
              "// where there are multiple asynchronous steps and the Python side is going\n",
              "// to poll for completion of each step.\n",
              "// This uses a Promise to block the python side on completion of each step,\n",
              "// then passes the result of the previous step as the input to the next step.\n",
              "function _uploadFilesContinue(outputId) {\n",
              "  const outputElement = document.getElementById(outputId);\n",
              "  const steps = outputElement.steps;\n",
              "\n",
              "  const next = steps.next(outputElement.lastPromiseValue);\n",
              "  return Promise.resolve(next.value.promise).then((value) => {\n",
              "    // Cache the last promise value to make it available to the next\n",
              "    // step of the generator.\n",
              "    outputElement.lastPromiseValue = value;\n",
              "    return next.value.response;\n",
              "  });\n",
              "}\n",
              "\n",
              "/**\n",
              " * Generator function which is called between each async step of the upload\n",
              " * process.\n",
              " * @param {string} inputId Element ID of the input file picker element.\n",
              " * @param {string} outputId Element ID of the output display.\n",
              " * @return {!Iterable<!Object>} Iterable of next steps.\n",
              " */\n",
              "function* uploadFilesStep(inputId, outputId) {\n",
              "  const inputElement = document.getElementById(inputId);\n",
              "  inputElement.disabled = false;\n",
              "\n",
              "  const outputElement = document.getElementById(outputId);\n",
              "  outputElement.innerHTML = '';\n",
              "\n",
              "  const pickedPromise = new Promise((resolve) => {\n",
              "    inputElement.addEventListener('change', (e) => {\n",
              "      resolve(e.target.files);\n",
              "    });\n",
              "  });\n",
              "\n",
              "  const cancel = document.createElement('button');\n",
              "  inputElement.parentElement.appendChild(cancel);\n",
              "  cancel.textContent = 'Cancel upload';\n",
              "  const cancelPromise = new Promise((resolve) => {\n",
              "    cancel.onclick = () => {\n",
              "      resolve(null);\n",
              "    };\n",
              "  });\n",
              "\n",
              "  // Wait for the user to pick the files.\n",
              "  const files = yield {\n",
              "    promise: Promise.race([pickedPromise, cancelPromise]),\n",
              "    response: {\n",
              "      action: 'starting',\n",
              "    }\n",
              "  };\n",
              "\n",
              "  cancel.remove();\n",
              "\n",
              "  // Disable the input element since further picks are not allowed.\n",
              "  inputElement.disabled = true;\n",
              "\n",
              "  if (!files) {\n",
              "    return {\n",
              "      response: {\n",
              "        action: 'complete',\n",
              "      }\n",
              "    };\n",
              "  }\n",
              "\n",
              "  for (const file of files) {\n",
              "    const li = document.createElement('li');\n",
              "    li.append(span(file.name, {fontWeight: 'bold'}));\n",
              "    li.append(span(\n",
              "        `(${file.type || 'n/a'}) - ${file.size} bytes, ` +\n",
              "        `last modified: ${\n",
              "            file.lastModifiedDate ? file.lastModifiedDate.toLocaleDateString() :\n",
              "                                    'n/a'} - `));\n",
              "    const percent = span('0% done');\n",
              "    li.appendChild(percent);\n",
              "\n",
              "    outputElement.appendChild(li);\n",
              "\n",
              "    const fileDataPromise = new Promise((resolve) => {\n",
              "      const reader = new FileReader();\n",
              "      reader.onload = (e) => {\n",
              "        resolve(e.target.result);\n",
              "      };\n",
              "      reader.readAsArrayBuffer(file);\n",
              "    });\n",
              "    // Wait for the data to be ready.\n",
              "    let fileData = yield {\n",
              "      promise: fileDataPromise,\n",
              "      response: {\n",
              "        action: 'continue',\n",
              "      }\n",
              "    };\n",
              "\n",
              "    // Use a chunked sending to avoid message size limits. See b/62115660.\n",
              "    let position = 0;\n",
              "    do {\n",
              "      const length = Math.min(fileData.byteLength - position, MAX_PAYLOAD_SIZE);\n",
              "      const chunk = new Uint8Array(fileData, position, length);\n",
              "      position += length;\n",
              "\n",
              "      const base64 = btoa(String.fromCharCode.apply(null, chunk));\n",
              "      yield {\n",
              "        response: {\n",
              "          action: 'append',\n",
              "          file: file.name,\n",
              "          data: base64,\n",
              "        },\n",
              "      };\n",
              "\n",
              "      let percentDone = fileData.byteLength === 0 ?\n",
              "          100 :\n",
              "          Math.round((position / fileData.byteLength) * 100);\n",
              "      percent.textContent = `${percentDone}% done`;\n",
              "\n",
              "    } while (position < fileData.byteLength);\n",
              "  }\n",
              "\n",
              "  // All done.\n",
              "  yield {\n",
              "    response: {\n",
              "      action: 'complete',\n",
              "    }\n",
              "  };\n",
              "}\n",
              "\n",
              "scope.google = scope.google || {};\n",
              "scope.google.colab = scope.google.colab || {};\n",
              "scope.google.colab._files = {\n",
              "  _uploadFiles,\n",
              "  _uploadFilesContinue,\n",
              "};\n",
              "})(self);\n",
              "</script> "
            ]
          },
          "metadata": {}
        },
        {
          "output_type": "stream",
          "name": "stdout",
          "text": [
            "Saving films.csv to films.csv\n"
          ]
        }
      ]
    },
    {
      "cell_type": "code",
      "source": [
        "data = pd.read_csv(\"films.csv\")\n",
        "print('Dataset Head:')\n",
        "print(data.head())\n",
        "\n",
        "print('\\nDataset Info:')\n",
        "print(data.info())\n",
        "\n",
        "print('\\nSumário de Estatísticas:')\n",
        "print(data.describe(include='all'))\n",
        "\n",
        "\n",
        "\n"
      ],
      "metadata": {
        "colab": {
          "base_uri": "https://localhost:8080/"
        },
        "id": "g1fv4lzXjWXl",
        "outputId": "746f6a99-a573-445a-83bc-440e761afba4"
      },
      "execution_count": 3,
      "outputs": [
        {
          "output_type": "stream",
          "name": "stdout",
          "text": [
            "Dataset Head:\n",
            "   ID            film film_rating cinema_score release_date  run_time  \\\n",
            "0   1       Toy Story           G            A   1995-11-22        81   \n",
            "1   2    A Bug's Life           G            A   1998-11-25        95   \n",
            "2   3     Toy Story 2           G           A+   1999-11-24        92   \n",
            "3   4  Monsters, Inc.           G           A+   2001-11-02        92   \n",
            "4   5    Finding Nemo           G           A+   2003-05-30       100   \n",
            "\n",
            "      budget  box_office_us_canada  box_office_other  box_office_worldwide  \\\n",
            "0   30000000             223225679         171210907             394436586   \n",
            "1  120000000             162798565         200460294             363258859   \n",
            "2   90000000             245852179         265506097             511358276   \n",
            "3  115000000             255873250         272900000             528773250   \n",
            "4   94000000             339714978         531300000             871014978   \n",
            "\n",
            "   rotten_tomatoes_score  rotten_tomatoes_counts  metacritic_score  \\\n",
            "0                    100                      96                95   \n",
            "1                     92                      91                78   \n",
            "2                    100                     172                88   \n",
            "3                     96                     199                79   \n",
            "4                     99                     270                90   \n",
            "\n",
            "   metacritic_counts  imdb_score  imdb_counts  \n",
            "0                 26         8.3      1089101  \n",
            "1                 23         7.2       319596  \n",
            "2                 34         7.9       630573  \n",
            "3                 35         8.1      1000657  \n",
            "4                 38         8.2      1132877  \n",
            "\n",
            "Dataset Info:\n",
            "<class 'pandas.core.frame.DataFrame'>\n",
            "RangeIndex: 28 entries, 0 to 27\n",
            "Data columns (total 16 columns):\n",
            " #   Column                  Non-Null Count  Dtype  \n",
            "---  ------                  --------------  -----  \n",
            " 0   ID                      28 non-null     int64  \n",
            " 1   film                    28 non-null     object \n",
            " 2   film_rating             28 non-null     object \n",
            " 3   cinema_score            25 non-null     object \n",
            " 4   release_date            28 non-null     object \n",
            " 5   run_time                28 non-null     int64  \n",
            " 6   budget                  28 non-null     int64  \n",
            " 7   box_office_us_canada    28 non-null     int64  \n",
            " 8   box_office_other        28 non-null     int64  \n",
            " 9   box_office_worldwide    28 non-null     int64  \n",
            " 10  rotten_tomatoes_score   28 non-null     int64  \n",
            " 11  rotten_tomatoes_counts  28 non-null     int64  \n",
            " 12  metacritic_score        28 non-null     int64  \n",
            " 13  metacritic_counts       28 non-null     int64  \n",
            " 14  imdb_score              28 non-null     float64\n",
            " 15  imdb_counts             28 non-null     int64  \n",
            "dtypes: float64(1), int64(11), object(4)\n",
            "memory usage: 3.6+ KB\n",
            "None\n",
            "\n",
            "Sumário de Estatísticas:\n",
            "               ID       film film_rating cinema_score release_date  \\\n",
            "count   28.000000         28          28           25           28   \n",
            "unique        NaN         28           2            3           28   \n",
            "top           NaN  Toy Story          PG            A   1995-11-22   \n",
            "freq          NaN          1          15           15            1   \n",
            "mean    14.500000        NaN         NaN          NaN          NaN   \n",
            "std      8.225975        NaN         NaN          NaN          NaN   \n",
            "min      1.000000        NaN         NaN          NaN          NaN   \n",
            "25%      7.750000        NaN         NaN          NaN          NaN   \n",
            "50%     14.500000        NaN         NaN          NaN          NaN   \n",
            "75%     21.250000        NaN         NaN          NaN          NaN   \n",
            "max     28.000000        NaN         NaN          NaN          NaN   \n",
            "\n",
            "          run_time        budget  box_office_us_canada  box_office_other  \\\n",
            "count    28.000000  2.800000e+01          2.800000e+01      2.800000e+01   \n",
            "unique         NaN           NaN                   NaN               NaN   \n",
            "top            NaN           NaN                   NaN               NaN   \n",
            "freq           NaN           NaN                   NaN               NaN   \n",
            "mean    100.392857  1.553929e+08          2.475444e+08      3.611199e+08   \n",
            "std       8.047725  5.382092e+07          1.631609e+08      2.300110e+08   \n",
            "min      81.000000  0.000000e+00          9.461540e+05      2.041436e+07   \n",
            "25%      95.000000  1.200000e+08          1.540453e+08      2.069555e+08   \n",
            "50%     100.000000  1.750000e+08          2.305457e+08      3.218588e+08   \n",
            "75%     104.250000  2.000000e+08          3.046819e+08      5.086871e+08   \n",
            "max     118.000000  2.000000e+08          6.529802e+08      1.045051e+09   \n",
            "\n",
            "        box_office_worldwide  rotten_tomatoes_score  rotten_tomatoes_counts  \\\n",
            "count           2.800000e+01              28.000000               28.000000   \n",
            "unique                   NaN                    NaN                     NaN   \n",
            "top                      NaN                    NaN                     NaN   \n",
            "freq                     NaN                    NaN                     NaN   \n",
            "mean            6.086643e+08              88.357143              273.821429   \n",
            "std             3.826497e+08              13.447330               84.248773   \n",
            "min             2.181336e+07              40.000000               91.000000   \n",
            "25%             3.787627e+08              79.750000              220.000000   \n",
            "50%             5.338782e+08              94.500000              266.000000   \n",
            "75%             8.253837e+08              97.000000              324.000000   \n",
            "max             1.698031e+09             100.000000              459.000000   \n",
            "\n",
            "        metacritic_score  metacritic_counts  imdb_score   imdb_counts  \n",
            "count          28.000000          28.000000   28.000000  2.800000e+01  \n",
            "unique               NaN                NaN         NaN           NaN  \n",
            "top                  NaN                NaN         NaN           NaN  \n",
            "freq                 NaN                NaN         NaN           NaN  \n",
            "mean           78.142857          43.464286    7.542857  5.256077e+05  \n",
            "std            12.408821           9.558716    0.658522  3.688713e+05  \n",
            "min            57.000000          23.000000    6.100000  1.270450e+05  \n",
            "25%            68.250000          37.000000    7.175000  1.955322e+05  \n",
            "50%            79.500000          41.000000    7.550000  3.958430e+05  \n",
            "75%            88.500000          52.000000    8.100000  8.385082e+05  \n",
            "max            96.000000          59.000000    8.400000  1.226415e+06  \n"
          ]
        }
      ]
    },
    {
      "cell_type": "markdown",
      "source": [
        "### Probabilidade simples\n"
      ],
      "metadata": {
        "id": "a8byp6UU1Nuo"
      }
    },
    {
      "cell_type": "code",
      "source": [
        "# probabilidade simples de um filme ter nota superior a 7 no IMDB\n",
        "total_filmes = len(data)\n",
        "maior = sum(1 for score in data['imdb_score'] if score > 7)\n",
        "probabilidade_imdb = maior/total_filmes\n",
        "print(f\"Probabilidade de um filme ter IMDB > 7: {probabilidade_imdb}\")"
      ],
      "metadata": {
        "colab": {
          "base_uri": "https://localhost:8080/"
        },
        "id": "NSdpj1vLs6jq",
        "outputId": "1dff1b2a-0508-4852-bd15-6374d0884deb"
      },
      "execution_count": null,
      "outputs": [
        {
          "output_type": "stream",
          "name": "stdout",
          "text": [
            "Probabilidade de um filme ter IMDB > 7: 0.7857142857142857\n"
          ]
        }
      ]
    },
    {
      "cell_type": "code",
      "source": [
        "# probabilidade simples de um filme ter nota superior a 8 no IMDB\n",
        "total_filmes = len(data)\n",
        "maior = sum(1 for score in data['imdb_score'] if score > 8)\n",
        "probabilidade_imdb = maior/total_filmes\n",
        "print(f\"Probabilidade de um filme ter IMDB > 8: {probabilidade_imdb}\")"
      ],
      "metadata": {
        "id": "NLjGfc93M3Nh"
      },
      "execution_count": null,
      "outputs": []
    },
    {
      "cell_type": "code",
      "source": [
        "# probabilidade simples de um filme ter nota superior a 9 no IMDB\n",
        "total_filmes = len(data)\n",
        "maior = sum(1 for score in data['imdb_score'] if score > 9)\n",
        "probabilidade_imdb = maior/total_filmes\n",
        "print(f\"Probabilidade de um filme ter IMDB > 9: {probabilidade_imdb}\")"
      ],
      "metadata": {
        "id": "eaO3fDyLM7i3"
      },
      "execution_count": null,
      "outputs": []
    },
    {
      "cell_type": "code",
      "source": [
        "# probabilidade simples de um filme ter nota inferior ou igual a 5 no IMDB\n",
        "total_filmes = len(data)\n",
        "maior = sum(1 for score in data['imdb_score'] if score <= 5)\n",
        "probabilidade_imdb = maior/total_filmes\n",
        "print(f\"Probabilidade de um filme ter IMDB <= 5: {probabilidade_imdb}\")"
      ],
      "metadata": {
        "id": "y-wgNh-VPwf7"
      },
      "execution_count": null,
      "outputs": []
    },
    {
      "cell_type": "code",
      "source": [
        "# probabilidade simples de um filme ser classificado como PG\n",
        "total_filmes = len(data)\n",
        "filmes_pg = sum(1 for rating in data['film_rating'] if rating == \"PG\")\n",
        "prob_pg = filmes_pg / total_filmes\n",
        "print(f\"Probabilidade de um filme ser PG: {prob_pg}\")\n",
        "\n"
      ],
      "metadata": {
        "colab": {
          "base_uri": "https://localhost:8080/"
        },
        "id": "3cDApyMhtXga",
        "outputId": "806543ab-59a2-4937-f1ff-08ff4309a8b7"
      },
      "execution_count": null,
      "outputs": [
        {
          "output_type": "stream",
          "name": "stdout",
          "text": [
            "Probabilidade de um filme ser PG: 0.5357142857142857\n",
            "['G' 'PG']\n"
          ]
        }
      ]
    },
    {
      "cell_type": "code",
      "source": [
        "# Probabilidade de quantos filmes têm Rotten Tomatoes Score maior que 70\n",
        "filmes_rotten_maior_70 = sum(1 for score in data['rotten_tomatoes_score'] if score > 70)\n",
        "prob_rotten = filmes_rotten_maior_70 / total_filmes\n",
        "\n",
        "print(f\"Probabilidade de um filme ter Rotten Tomatoes Score > 70: {prob_rotten}\")\n"
      ],
      "metadata": {
        "colab": {
          "base_uri": "https://localhost:8080/"
        },
        "id": "OGTU90tgvg92",
        "outputId": "5deee17b-397c-460a-d356-fb0285e105d8"
      },
      "execution_count": null,
      "outputs": [
        {
          "output_type": "stream",
          "name": "stdout",
          "text": [
            "Probabilidade de um filme ter Rotten Tomatoes Score > 70: 0.9285714285714286\n"
          ]
        }
      ]
    },
    {
      "cell_type": "code",
      "source": [
        "# Probabilidade de quantos filmes têm Rotten Tomatoes Score maior que 80\n",
        "filmes_rotten_maior_80 = sum(1 for score in data['rotten_tomatoes_score'] if score > 80)\n",
        "prob_rotten = filmes_rotten_maior_80 / total_filmes\n",
        "\n",
        "print(f\"Probabilidade de um filme ter Rotten Tomatoes Score > 80: {prob_rotten}\")"
      ],
      "metadata": {
        "id": "FeHBGfVdNfAd"
      },
      "execution_count": null,
      "outputs": []
    },
    {
      "cell_type": "code",
      "source": [
        "# Probabilidade de quantos filmes têm Rotten Tomatoes Score maior que 90\n",
        "filmes_rotten_maior_90 = sum(1 for score in data['rotten_tomatoes_score'] if score > 90)\n",
        "prob_rotten = filmes_rotten_maior_90 / total_filmes\n",
        "\n",
        "print(f\"Probabilidade de um filme ter Rotten Tomatoes Score > 90: {prob_rotten}\")"
      ],
      "metadata": {
        "id": "ueUwOWBLNmMs"
      },
      "execution_count": null,
      "outputs": []
    },
    {
      "cell_type": "code",
      "source": [
        "# Probabilidade de quantos filmes têm Rotten Tomatoes Score menor que 70\n",
        "filmes_rotten_menor_70 = sum(1 for score in data['rotten_tomatoes_score'] if score < 70)\n",
        "prob_rotten = filmes_rotten_menor_70 / total_filmes\n",
        "\n",
        "print(f\"Probabilidade de um filme ter Rotten Tomatoes Score < 70: {prob_rotten}\")"
      ],
      "metadata": {
        "id": "ogf6P0fGNvlk"
      },
      "execution_count": null,
      "outputs": []
    },
    {
      "cell_type": "code",
      "source": [
        "# Probabilidade simples dos filmes terem orçamento acima de 50M\n",
        "filmes_orcamento_maior_50M = sum(1 for budget in data['budget'] if budget > 50000000)\n",
        "prob_orcamento = filmes_orcamento_maior_50M / total_filmes\n",
        "\n",
        "print(f\"Probabilidade de um filme ter orçamento > 50M: {prob_orcamento}\")\n"
      ],
      "metadata": {
        "colab": {
          "base_uri": "https://localhost:8080/"
        },
        "id": "nKpkWSaGuuig",
        "outputId": "86e587fe-43a0-49f7-dd63-f92895fe1efd"
      },
      "execution_count": null,
      "outputs": [
        {
          "output_type": "stream",
          "name": "stdout",
          "text": [
            "Probabilidade de um filme ter orçamento > 50M: 0.93\n"
          ]
        }
      ]
    },
    {
      "cell_type": "code",
      "source": [
        "# Probabilidade simples dos filmes terem orçamento acima de 100M\n",
        "filmes_orcamento_maior_100M = sum(1 for budget in data['budget'] if budget > 100000000)\n",
        "prob_orcamento = filmes_orcamento_maior_100M / total_filmes\n",
        "\n",
        "print(f\"Probabilidade de um filme ter orçamento > 100M: {prob_orcamento}\")"
      ],
      "metadata": {
        "id": "7-Qsbt8SN9PA"
      },
      "execution_count": null,
      "outputs": []
    },
    {
      "cell_type": "code",
      "source": [
        "# Número de filmes com Metacritic score inferior a 7\n",
        "filmes_metacritics = len(data[data['metacritic_score'] < 7])\n",
        "\n",
        "# Probabilidade de ter Metacritic < 7\n",
        "prob_metacritic = filmes_metacritics / total_filmes\n",
        "\n",
        "print(f'A probabilidade de um filme ter Metacritic < 7 é de: {round(prob_metacritic * 100, 4)}%')\n"
      ],
      "metadata": {
        "colab": {
          "base_uri": "https://localhost:8080/"
        },
        "id": "g_Pxe-2BG_j9",
        "outputId": "d05f1e5f-4020-42e8-ac43-36f4507b4035"
      },
      "execution_count": null,
      "outputs": [
        {
          "output_type": "stream",
          "name": "stdout",
          "text": [
            "A probabilidade de um filme ter Metacritic menor que 7 é de: 0.0%\n"
          ]
        }
      ]
    },
    {
      "cell_type": "markdown",
      "source": [
        "### Probabilidade com união"
      ],
      "metadata": {
        "id": "eD_1p8eF0_bH"
      }
    },
    {
      "cell_type": "code",
      "source": [
        "# Probabilidade de um filme ter bilheteria nos EUA/Canadá > 50 milhões OU bilheteria no resto do mundo > 100 milhões"
      ],
      "metadata": {
        "id": "_DOcymh3wXbf"
      },
      "execution_count": null,
      "outputs": []
    },
    {
      "cell_type": "code",
      "source": [
        "# Contar filmes com bilheteria nos EUA/Canadá > 50M\n",
        "filmes_us_maior_50M = sum(1 for box in data['box_office_us_canada'] if box > 50000000)\n",
        "\n",
        "# Contar filmes com bilheteria internacional > 100M\n",
        "filmes_outro_maior_100M = sum(1 for box in data['box_office_other'] if box > 100000000)\n",
        "\n",
        "# Contar filmes que atendem ambas as condições\n",
        "filmes_ambos = sum(1 for us, outro in zip(data['box_office_us_canada'], data['box_office_other']) if us > 50000000 and outro > 100000000)\n",
        "\n",
        "# Calcular P(A ∪ B)\n",
        "prob_uniao = (filmes_us_maior_50M + filmes_outro_maior_100M - filmes_ambos) / total_filmes\n",
        "\n",
        "print(f\"Probabilidade de um filme ter bilheteria EUA/Canadá > 50M OU internacional > 100M: {prob_uniao}\")\n"
      ],
      "metadata": {
        "colab": {
          "base_uri": "https://localhost:8080/"
        },
        "id": "6tY_iEwvyv2y",
        "outputId": "64ac8eb4-6cec-4d81-c0dc-eabb4886f225"
      },
      "execution_count": null,
      "outputs": [
        {
          "output_type": "stream",
          "name": "stdout",
          "text": [
            "Probabilidade de um filme ter bilheteria EUA/Canadá > 50M OU internacional > 100M: 0.9285714285714286\n"
          ]
        }
      ]
    },
    {
      "cell_type": "code",
      "source": [
        "# Probabilidade de um filme ter mais de 1000 avaliações no IMDb OU nota IMDb maior que 8\n",
        "\n",
        "filmes_imdb_contagem_maior_1000 = sum(1 for count in data['imdb_counts'] if count > 1000)\n",
        "filmes_imdb_maior_8 = sum(1 for score in data['imdb_score'] if score > 8)\n",
        "filmes_ambos = sum(1 for count, score in zip(data['imdb_counts'], data['imdb_score']) if count > 1000 and score > 8)\n",
        "prob_uniao = (filmes_imdb_contagem_maior_1000 + filmes_imdb_maior_8 - filmes_ambos) / total_filmes\n",
        "\n",
        "print(f\"Probabilidade de um filme ter mais de 1000 avaliações no IMDb OU nota > 8: {prob_uniao}\")\n"
      ],
      "metadata": {
        "colab": {
          "base_uri": "https://localhost:8080/"
        },
        "id": "xFSeL0Y2zpcX",
        "outputId": "fd2056ff-d6d3-414d-bb60-c2b7c22b2920"
      },
      "execution_count": null,
      "outputs": [
        {
          "output_type": "stream",
          "name": "stdout",
          "text": [
            "Probabilidade de um filme ter mais de 1000 avaliações no IMDb OU nota > 8: 1.0\n"
          ]
        }
      ]
    },
    {
      "cell_type": "code",
      "source": [
        "# Probabilidade de um filme ter orçamento > 50M OU bilheteria mundial > 100M:\n",
        "total_filmes = len(data)\n",
        "\n",
        "\n",
        "A = np.array(data['budget']) > 50000000  # Filmes com orçamento > 50M\n",
        "B = np.array(data['box_office_worldwide']) > 100000000  # Filmes com bilheteria > 100M\n",
        "\n",
        "# Calcular as probabilidades usando NumPy\n",
        "P_A = np.sum(A) / total_filmes  # Probabilidade de A (budget > 50M)\n",
        "P_B = np.sum(B) / total_filmes  # Probabilidade de B (bilheteria mundial > 100M)\n",
        "P_A_inter_B = np.sum(A & B) / total_filmes  # Probabilidade da interseção (A ∩ B)\n",
        "\n",
        "# Aplicar a fórmula de união\n",
        "P_A_uniao_B = P_A + P_B - P_A_inter_B\n",
        "\n",
        "# Exibir o resultado formatado\n",
        "print(f\"Probabilidade de um filme ter orçamento > 50M OU bilheteria mundial > 100M: {P_A_uniao_B}\")\n"
      ],
      "metadata": {
        "colab": {
          "base_uri": "https://localhost:8080/"
        },
        "id": "GOqJzoHk0n6a",
        "outputId": "9fd2411c-49a6-4ad3-b98d-01a0ad1ff0f2"
      },
      "execution_count": null,
      "outputs": [
        {
          "output_type": "stream",
          "name": "stdout",
          "text": [
            "Probabilidade de um filme ter orçamento > 50M OU bilheteria mundial > 100M: 0.9642857142857143\n"
          ]
        }
      ]
    },
    {
      "cell_type": "markdown",
      "source": [
        "### Probabilidade com intersecção"
      ],
      "metadata": {
        "id": "d7L0JVUv4KNx"
      }
    },
    {
      "cell_type": "code",
      "source": [
        "# Probabilidade de um filme ser classificado como \"PG-13\" E ter uma bilheteira mundial superior a 100 milhões"
      ],
      "metadata": {
        "id": "NCxbfeaq4JyH"
      },
      "execution_count": null,
      "outputs": []
    },
    {
      "cell_type": "code",
      "source": [
        "PG_maior_100M = len(data[((data['film_rating'] == 'PG') & (data['box_office_worldwide'] > 100000000))])\n",
        "prob_PG_maior_100M = PG_maior_100M / len(data)\n",
        "print(f'A probabilidade de um filme ser PG e ter bilheteira mundial > 100M é de : {round(prob_PG_maior_100M * 100, 4)}%')\n"
      ],
      "metadata": {
        "colab": {
          "base_uri": "https://localhost:8080/"
        },
        "id": "MzKkGPE35JL2",
        "outputId": "d6bdd50b-9bae-4b2b-9e36-c3fb3ee3ab54"
      },
      "execution_count": null,
      "outputs": [
        {
          "output_type": "stream",
          "name": "stdout",
          "text": [
            "A probabilidade de um filme ser PG e ter bilheteira mundial > 100M é de : 46.4286%\n"
          ]
        }
      ]
    },
    {
      "cell_type": "code",
      "source": [
        "# Probabilidade de um filme com orçamento superior a 50 milhões E com um IMDB score maior que 8\n",
        "orçamento_maior = len(data[((data['budget'] > 50000000) & (data['imdb_score'] > 8))])\n",
        "prob_orc = orçamento_maior / len(data)\n",
        "print(f'A probabilidade de um filme ter orçamento > 50M e IMDb > 8 é de : {round(prob_orc * 100, 4)}%')\n"
      ],
      "metadata": {
        "colab": {
          "base_uri": "https://localhost:8080/"
        },
        "id": "U6tT8I5K5iZ5",
        "outputId": "12fee01b-38ba-4de4-8bad-e58193c0813d"
      },
      "execution_count": null,
      "outputs": [
        {
          "output_type": "stream",
          "name": "stdout",
          "text": [
            "A probabilidade de um filme ter orçamento > 50M e IMDb > 8 é de : 28.5714%\n"
          ]
        }
      ]
    },
    {
      "cell_type": "code",
      "source": [
        "# Probabilidade de um filme ter um \"cinema_score\" bom (>= 70) E ter uma duração superior a 90 minutos"
      ],
      "metadata": {
        "id": "04o1RNhm7WIJ"
      },
      "execution_count": null,
      "outputs": []
    },
    {
      "cell_type": "code",
      "source": [
        "# Mapeamento de cinema_score para valores numéricos\n",
        "cinema_score_map = {\n",
        "    'A+': 100,\n",
        "    'A': 90,\n",
        "    'A-': 85,\n",
        "    'B+': 80,\n",
        "    'B': 70,\n",
        "    'B-': 65,\n",
        "    'C+': 60,\n",
        "    'C': 50,\n",
        "    'C-': 45,\n",
        "    'D': 30,\n",
        "    'F': 0\n",
        "}\n",
        "\n",
        "# Substitui as classificações de cinema_score pelas notas numéricas\n",
        "data['cinema_score'] = data['cinema_score'].map(cinema_score_map)\n",
        "\n",
        "# Filmes com cinema_score >= 70 e runtime > 90 minutos\n",
        "calculo = len(data[(data['cinema_score'] >= 70) & (data['run_time'] > 90)])\n",
        "\n",
        "# Total de filmes no dataset\n",
        "total_filmes = len(data)\n",
        "\n",
        "# Probabilidade de interseção (cinema_score >= 70 E runtime > 90)\n",
        "prob_interseccao_cinema_runtime = calculo / total_filmes\n",
        "\n",
        "print(f'A probabilidade de um filme ter cinema_score >= 70 e runtime > 90 minutos é de : {round(prob_interseccao_cinema_runtime * 100, 4)}%')\n",
        "\n"
      ],
      "metadata": {
        "colab": {
          "base_uri": "https://localhost:8080/"
        },
        "id": "qCpYP1xA7X7L",
        "outputId": "e53e27ec-6cc6-4dda-d270-8f827f4562bd"
      },
      "execution_count": null,
      "outputs": [
        {
          "output_type": "stream",
          "name": "stdout",
          "text": [
            "A probabilidade de um filme ter cinema_score >= 70 e runtime > 90 minutos é de : 0.0%\n"
          ]
        }
      ]
    },
    {
      "cell_type": "markdown",
      "source": [
        "### Probabilidade com complemento/diferença"
      ],
      "metadata": {
        "id": "-lLKOmWe_jOM"
      }
    },
    {
      "cell_type": "code",
      "source": [
        "# probabilidade do filme não ser PG\n",
        "\n",
        "pg_filmes = len(data[data['film_rating'] == 'PG'])\n",
        "total_filmes = len(data)\n",
        "prob_pg = pg_filmes / total_filmes\n",
        "prob_nao_pg = 1 - prob_pg\n",
        "\n",
        "print(f'A probabilidade de um filme não ser classificado como PG é de: {round(prob_nao_pg * 100, 4)}%')\n"
      ],
      "metadata": {
        "colab": {
          "base_uri": "https://localhost:8080/"
        },
        "id": "7e3OgOEx_mvM",
        "outputId": "6832acd6-ed9d-429e-f7ce-c6ae840ef29f"
      },
      "execution_count": null,
      "outputs": [
        {
          "output_type": "stream",
          "name": "stdout",
          "text": [
            "A probabilidade de um filme não ser classificado como PG é de: 46.4286%\n"
          ]
        }
      ]
    },
    {
      "cell_type": "code",
      "source": [
        "# Probabilidade de um filme não ter orçamento superior a 100 milhões\n",
        "\n",
        "filmes_maior= len(data[data['budget'] > 100_000_000])\n",
        "prob_orc_maior = filmes_maior / total_filmes\n",
        "prob_orc_menor = 1 - prob_orc_maior\n",
        "\n",
        "print(f'A probabilidade de um filme ter orçamento inferior ou igual a 100 milhões é de: {round(prob_orc_menor * 100, 4)}%')\n"
      ],
      "metadata": {
        "colab": {
          "base_uri": "https://localhost:8080/"
        },
        "id": "NcmylBV6_u3b",
        "outputId": "6c15a11f-d60c-4638-f329-03e30f663924"
      },
      "execution_count": null,
      "outputs": [
        {
          "output_type": "stream",
          "name": "stdout",
          "text": [
            "A probabilidade de um filme ter orçamento inferior ou igual a 100 milhões é de: 17.8571%\n"
          ]
        }
      ]
    },
    {
      "cell_type": "code",
      "source": [
        "# Probabilidade de um filme não ter uma receita de bilheteiras no Canadá superior a 10 milhões de dólares\n",
        "\n",
        "filmes_boxoffice_maior = len(data[data['box_office_us_canada'] > 10_000_000])\n",
        "prob_maior= filmes_boxoffice_maior / total_filmes\n",
        "prob_menor = 1 - prob_maior\n",
        "\n",
        "print(f'A probabilidade de um filme ter box_office_us_canada inferior ou igual a 10 milhões de dólares é de: {round(prob_menor * 100, 4)}%')\n"
      ],
      "metadata": {
        "colab": {
          "base_uri": "https://localhost:8080/"
        },
        "id": "wu_FXSXkDuiB",
        "outputId": "6478255f-19f9-4982-91d0-468dd453aa93"
      },
      "execution_count": null,
      "outputs": [
        {
          "output_type": "stream",
          "name": "stdout",
          "text": [
            "A probabilidade de um filme ter box_office_us_canada inferior ou igual a 10 milhões de dólares é de: 10.7143%\n"
          ]
        }
      ]
    },
    {
      "cell_type": "code",
      "source": [
        "# Filmes com Rotten Tomatoes > 7 e Metacritic score < 7\n",
        "filmes = len(data[(data['rotten_tomatoes_score'] > 7) & (data['metacritic_score'] < 7)])\n",
        "\n",
        "# Probabilidade de ter Rotten Tomatoes > 7 e Metacritic < 7\n",
        "probDiferenca = prob_rotten - prob_metacritic\n",
        "\n",
        "print(f'A probabilidade de um filme ter Rotten Tomatoes maior que 7 e não ter no Metacritic é de: {round(probDiferenca * 100, 4)}%')\n"
      ],
      "metadata": {
        "colab": {
          "base_uri": "https://localhost:8080/"
        },
        "id": "D7NYbv5NGH9n",
        "outputId": "621db6bf-df93-456c-e3f5-bcd3f9180c48"
      },
      "execution_count": null,
      "outputs": [
        {
          "output_type": "stream",
          "name": "stdout",
          "text": [
            "A probabilidade de um filme ter Rotten Tomatoes maior que 7 e Metacritic inferior a 7 é de: 92.8571%\n"
          ]
        }
      ]
    },
    {
      "cell_type": "markdown",
      "source": [
        "### Probabilidade Condicional"
      ],
      "metadata": {
        "id": "M_M4LCrPIQYL"
      }
    },
    {
      "cell_type": "code",
      "source": [
        "# Probabilidade condicional de um filme ser classificado como PG dado que a pontuação no Rotten Tomatoes é maior que 70\n",
        "# Número de filmes com Rotten Tomatoes > 70 e classificados como PG\n",
        "filmes_pg_rotten_maior = len(data[(data['film_rating'] == 'PG') & (data['rotten_tomatoes_score'] > 70)])\n",
        "prob_pg_rotten_70 = filmes_pg_rotten_maior / filmes_rotten_maior_70\n",
        "\n",
        "print(f'A probabilidade de um filme ser classificado como PG dado que a pontuação no Rotten Tomatoes é maior que 7 é de: {round(prob_pg_rotten_70 * 100, 4)}%')\n"
      ],
      "metadata": {
        "colab": {
          "base_uri": "https://localhost:8080/"
        },
        "id": "89veVV6rIUGq",
        "outputId": "0c8e6e7a-5012-4d6a-9daa-1209d3dbfbfb"
      },
      "execution_count": null,
      "outputs": [
        {
          "output_type": "stream",
          "name": "stdout",
          "text": [
            "A probabilidade de um filme ser classificado como PG dado que a pontuação no Rotten Tomatoes é maior que 7 é de: 57.6923%\n"
          ]
        }
      ]
    },
    {
      "cell_type": "code",
      "source": [
        "# Filmes com bilheteira global superior a 100 milhões e lançados após 2015\n",
        "filmes_bilheteria_2015 = len(data[(data['box_office_worldwide'] > 100_000_000) & (data['release_date'] > '2015-01-01')])\n",
        "\n",
        "# Filmes lançados após 2015\n",
        "filmes_apos_2015 = len(data[data['release_date'] > '2015-01-01'])\n",
        "\n",
        "# Probabilidade condicional de bilheteira global > 100 milhões dado lançamento após 2015\n",
        "prob_bilheteira = filmes_bilheteria_2015 / filmes_apos_2015\n",
        "\n",
        "print(f'A probabilidade de um filme ter bilheteira global > 100 milhões dado que foi lançado após 2015 é de: {round(prob_bilheteira * 100, 4)}%')\n"
      ],
      "metadata": {
        "colab": {
          "base_uri": "https://localhost:8080/"
        },
        "id": "E67pw67_KkN4",
        "outputId": "6e59d2f5-9ddc-4c2f-d78a-112dffdf95c2"
      },
      "execution_count": null,
      "outputs": [
        {
          "output_type": "stream",
          "name": "stdout",
          "text": [
            "A probabilidade de um filme ter bilheteira global > 100 milhões dado que foi lançado após 2015 é de: 85.7143%\n"
          ]
        }
      ]
    },
    {
      "cell_type": "code",
      "source": [
        "# Filmes com CinemaScore = 'A' e orçamento superior a 190 milhões\n",
        "filmes_A_orcamento = len(data[(data['cinema_score'] == 'A') & (data['budget'] > 190_000_000)])\n",
        "\n",
        "# Filmes com orçamento superior a 190 milhões\n",
        "filmes_orcamento_sup = len(data[data['budget'] > 190_000_000])\n",
        "\n",
        "# Probabilidade condicional de CinemaScore = 'A' dado orçamento > 200 milhões\n",
        "prob_A_orcamento = filmes_A_orcamento/ filmes_orcamento_sup\n",
        "\n",
        "print(f'A probabilidade de um filme ter CinemaScore = A dado que o orçamento é maior que 190 milhões é de: {round(prob_A_orcamento * 100, 4)}%')\n"
      ],
      "metadata": {
        "colab": {
          "base_uri": "https://localhost:8080/"
        },
        "id": "Dt-c9ohkLhMx",
        "outputId": "c7185817-e04c-4a38-ef55-7ada35425c46"
      },
      "execution_count": null,
      "outputs": [
        {
          "output_type": "stream",
          "name": "stdout",
          "text": [
            "A probabilidade de um filme ter CinemaScore = A dado que o orçamento é maior que 190 milhões é de: 66.6667%\n"
          ]
        }
      ]
    },
    {
      "cell_type": "markdown",
      "source": [
        "### Probabilidade com Teorema de Bayes"
      ],
      "metadata": {
        "id": "-YY0AgbyE8Hj"
      }
    },
    {
      "cell_type": "code",
      "source": [
        "\n",
        "# Probabilidade de um filme ser bem avaliado no Metacritic, dado que ele tem um CinemaScore 'A'.\n",
        "total_filmes = len(data)\n",
        "\n",
        "# Filmes com Metacritic > 70\n",
        "filmes_metacritic_alto = len(data[data['metacritic_score'] > 70])\n",
        "P_A = filmes_metacritic_alto / total_filmes  # P(A)\n",
        "\n",
        "# Filmes com CinemaScore = 'A'\n",
        "filmes_cinema_A = len(data[data['cinema_score'] == 'A'])\n",
        "P_B = filmes_cinema_A / total_filmes  # P(B)\n",
        "\n",
        "# Filmes com Metacritic > 70 e CinemaScore = 'A'\n",
        "filmes_metacritic_alto_cinema_A = len(data[(data['metacritic_score'] > 70) & (data['cinema_score'] == 'A')])\n",
        "P_B_A = filmes_metacritic_alto_cinema_A / filmes_metacritic_alto  # P(B|A)\n",
        "\n",
        "# Aplicação do Teorema de Bayes\n",
        "P_A_B = (P_B_A * P_A) / P_B\n",
        "\n",
        "print(f'A probabilidade de um filme ter Metacritic > 70 dado que tem CinemaScore \"A+\" é de: {round(P_A_B * 100, 2)}%')\n"
      ],
      "metadata": {
        "colab": {
          "base_uri": "https://localhost:8080/"
        },
        "id": "JFagifmvE_6Q",
        "outputId": "471dcc81-5698-4a31-9a7b-fe2029bb8ced"
      },
      "execution_count": null,
      "outputs": [
        {
          "output_type": "stream",
          "name": "stdout",
          "text": [
            "A probabilidade de um filme ter Metacritic > 70 dado que tem CinemaScore \"A+\" é de: 66.67%\n"
          ]
        }
      ]
    },
    {
      "cell_type": "code",
      "source": [
        "# Probabilidade de um filme ser classificado como G, dado que tem um Cinema Score igual ou maior que A.\n",
        "# Total de filmes classificados como G\n",
        "filmes_g = len(data[data['film_rating'] == 'G'])\n",
        "P_A = filmes_g / total_filmes  # P(A)\n",
        "\n",
        "# Total de filmes com Cinema Score A ou A+\n",
        "filmes_cinema_a = len(data[data['cinema_score'].isin(['A', 'A+'])])\n",
        "P_B = filmes_cinema_a / total_filmes  # P(B)\n",
        "\n",
        "# Filmes que são G e têm Cinema Score A ou A+\n",
        "filmes_g_cinema_a = len(data[(data['film_rating'] == 'G') & (data['cinema_score'].isin(['A', 'A+']))])\n",
        "P_B_A = filmes_g_cinema_a / filmes_g  # P(B|A)\n",
        "\n",
        "# Aplicação do Teorema de Bayes\n",
        "P_A_B = (P_B_A * P_A) / P_B\n",
        "\n",
        "print(f'A probabilidade de um filme ser G dado que tem Cinema Score A ou A+ é de: {round(P_A_B * 100, 2)}%')\n"
      ],
      "metadata": {
        "colab": {
          "base_uri": "https://localhost:8080/"
        },
        "id": "OlQby1OyMPQj",
        "outputId": "c444e212-7e7e-45a8-ea8c-b45fcda03993"
      },
      "execution_count": null,
      "outputs": [
        {
          "output_type": "stream",
          "name": "stdout",
          "text": [
            "A probabilidade de um filme ser G dado que tem Cinema Score A ou A+ é de: 54.55%\n"
          ]
        }
      ]
    },
    {
      "cell_type": "code",
      "source": [
        "# Probabilidade de um filme ser PG, dado que foi lançado no verão (junho, julho ou agosto)."
      ],
      "metadata": {
        "id": "imd9BkMcWKFl"
      },
      "execution_count": null,
      "outputs": []
    },
    {
      "cell_type": "code",
      "source": [
        "# Converter a coluna release_date para datetime\n",
        "data['release_date'] = pd.to_datetime(data['release_date'])\n",
        "\n",
        "# Definir meses de verão\n",
        "meses_verao = [6, 7, 8]\n",
        "\n",
        "# Total de filmes classificados como PG\n",
        "filmes_pg = len(data[data['film_rating'] == 'PG'])\n",
        "P_A = filmes_pg / total_filmes  # P(A)\n",
        "\n",
        "# Total de filmes lançados no verão\n",
        "filmes_verao = len(data[data['release_date'].dt.month.isin(meses_verao)])\n",
        "P_B = filmes_verao / total_filmes  # P(B)\n",
        "\n",
        "# Filmes que são PG e foram lançados no verão\n",
        "filmes_pg_verao = len(data[(data['film_rating'] == 'PG') & (data['release_date'].dt.month.isin(meses_verao))])\n",
        "P_B_A = filmes_pg_verao / filmes_pg  # P(B|A)\n",
        "\n",
        "# Aplicação do Teorema de Bayes\n",
        "P_A_B = (P_B_A * P_A) / P_B\n",
        "\n",
        "print(f'A probabilidade de um filme ser PG dado que foi lançado no verão é de: {round(P_A_B * 100, 2)}%')\n"
      ],
      "metadata": {
        "colab": {
          "base_uri": "https://localhost:8080/"
        },
        "id": "BYJJHdHkWM7V",
        "outputId": "9a66db50-8bdd-4a4b-e3be-129ebbeb0421"
      },
      "execution_count": null,
      "outputs": [
        {
          "output_type": "stream",
          "name": "stdout",
          "text": [
            "A probabilidade de um filme ser PG dado que foi lançado no verão é de: 50.0%\n"
          ]
        }
      ]
    },
    {
      "cell_type": "markdown",
      "source": [
        "### Variáveis Aleatórias"
      ],
      "metadata": {
        "id": "s2COKFQlSVQ4"
      }
    },
    {
      "cell_type": "code",
      "source": [
        "# Calculando o lucro do filme\n",
        "data[\"profit\"] = data[\"box_office_worldwide\"] - data[\"budget\"]\n",
        "# Remover valores nulos antes\n",
        "data = data.dropna(subset=[\"box_office_worldwide\", \"budget\"])\n",
        "\n",
        "# Garantir que são float\n",
        "data[\"box_office_worldwide\"] = pd.to_numeric(data[\"box_office_worldwide\"], errors=\"coerce\")\n",
        "data[\"budget\"] = pd.to_numeric(data[\"budget\"], errors=\"coerce\")\n",
        "data.head(10)\n",
        "\n"
      ],
      "metadata": {
        "colab": {
          "base_uri": "https://localhost:8080/",
          "height": 469
        },
        "id": "Fk_kfxt0SUz7",
        "outputId": "8885d274-e23d-4a40-cd25-6d3d32cce22c"
      },
      "execution_count": 11,
      "outputs": [
        {
          "output_type": "execute_result",
          "data": {
            "text/plain": [
              "   ID             film film_rating cinema_score release_date  run_time  \\\n",
              "0   1        Toy Story           G            A   1995-11-22        81   \n",
              "1   2     A Bug's Life           G            A   1998-11-25        95   \n",
              "2   3      Toy Story 2           G           A+   1999-11-24        92   \n",
              "3   4   Monsters, Inc.           G           A+   2001-11-02        92   \n",
              "4   5     Finding Nemo           G           A+   2003-05-30       100   \n",
              "5   6  The Incredibles          PG           A+   2004-11-05       115   \n",
              "6   7             Cars           G            A   2006-06-09       116   \n",
              "7   8      Ratatouille           G            A   2007-06-29       111   \n",
              "8   9           WALL-E           G            A   2008-06-27        98   \n",
              "9  10               Up          PG           A+   2009-05-29        96   \n",
              "\n",
              "      budget  box_office_us_canada  box_office_other  box_office_worldwide  \\\n",
              "0   30000000             223225679         171210907             394436586   \n",
              "1  120000000             162798565         200460294             363258859   \n",
              "2   90000000             245852179         265506097             511358276   \n",
              "3  115000000             255873250         272900000             528773250   \n",
              "4   94000000             339714978         531300000             871014978   \n",
              "5   92000000             261441092         370001000             631442092   \n",
              "6  120000000             244082982         217900167             461983149   \n",
              "7  150000000             206445654         417280431             623726085   \n",
              "8  180000000             223808164         297503696             521311860   \n",
              "9  175000000             293004164         442094918             735099082   \n",
              "\n",
              "   rotten_tomatoes_score  rotten_tomatoes_counts  metacritic_score  \\\n",
              "0                    100                      96                95   \n",
              "1                     92                      91                78   \n",
              "2                    100                     172                88   \n",
              "3                     96                     199                79   \n",
              "4                     99                     270                90   \n",
              "5                     97                     250                90   \n",
              "6                     75                     204                73   \n",
              "7                     96                     253                96   \n",
              "8                     95                     261                95   \n",
              "9                     98                     297                88   \n",
              "\n",
              "   metacritic_counts  imdb_score  imdb_counts     profit  \n",
              "0                 26         8.3      1089101  364436586  \n",
              "1                 23         7.2       319596  243258859  \n",
              "2                 34         7.9       630573  421358276  \n",
              "3                 35         8.1      1000657  413773250  \n",
              "4                 38         8.2      1132877  777014978  \n",
              "5                 41         8.0       828986  539442092  \n",
              "6                 39         7.2       484034  341983149  \n",
              "7                 37         8.1       851229  473726085  \n",
              "8                 39         8.4      1226415  341311860  \n",
              "9                 37         8.3      1151249  560099082  "
            ],
            "text/html": [
              "\n",
              "  <div id=\"df-6ba60fba-1be6-4687-90e5-d82356f94ba0\" class=\"colab-df-container\">\n",
              "    <div>\n",
              "<style scoped>\n",
              "    .dataframe tbody tr th:only-of-type {\n",
              "        vertical-align: middle;\n",
              "    }\n",
              "\n",
              "    .dataframe tbody tr th {\n",
              "        vertical-align: top;\n",
              "    }\n",
              "\n",
              "    .dataframe thead th {\n",
              "        text-align: right;\n",
              "    }\n",
              "</style>\n",
              "<table border=\"1\" class=\"dataframe\">\n",
              "  <thead>\n",
              "    <tr style=\"text-align: right;\">\n",
              "      <th></th>\n",
              "      <th>ID</th>\n",
              "      <th>film</th>\n",
              "      <th>film_rating</th>\n",
              "      <th>cinema_score</th>\n",
              "      <th>release_date</th>\n",
              "      <th>run_time</th>\n",
              "      <th>budget</th>\n",
              "      <th>box_office_us_canada</th>\n",
              "      <th>box_office_other</th>\n",
              "      <th>box_office_worldwide</th>\n",
              "      <th>rotten_tomatoes_score</th>\n",
              "      <th>rotten_tomatoes_counts</th>\n",
              "      <th>metacritic_score</th>\n",
              "      <th>metacritic_counts</th>\n",
              "      <th>imdb_score</th>\n",
              "      <th>imdb_counts</th>\n",
              "      <th>profit</th>\n",
              "    </tr>\n",
              "  </thead>\n",
              "  <tbody>\n",
              "    <tr>\n",
              "      <th>0</th>\n",
              "      <td>1</td>\n",
              "      <td>Toy Story</td>\n",
              "      <td>G</td>\n",
              "      <td>A</td>\n",
              "      <td>1995-11-22</td>\n",
              "      <td>81</td>\n",
              "      <td>30000000</td>\n",
              "      <td>223225679</td>\n",
              "      <td>171210907</td>\n",
              "      <td>394436586</td>\n",
              "      <td>100</td>\n",
              "      <td>96</td>\n",
              "      <td>95</td>\n",
              "      <td>26</td>\n",
              "      <td>8.3</td>\n",
              "      <td>1089101</td>\n",
              "      <td>364436586</td>\n",
              "    </tr>\n",
              "    <tr>\n",
              "      <th>1</th>\n",
              "      <td>2</td>\n",
              "      <td>A Bug's Life</td>\n",
              "      <td>G</td>\n",
              "      <td>A</td>\n",
              "      <td>1998-11-25</td>\n",
              "      <td>95</td>\n",
              "      <td>120000000</td>\n",
              "      <td>162798565</td>\n",
              "      <td>200460294</td>\n",
              "      <td>363258859</td>\n",
              "      <td>92</td>\n",
              "      <td>91</td>\n",
              "      <td>78</td>\n",
              "      <td>23</td>\n",
              "      <td>7.2</td>\n",
              "      <td>319596</td>\n",
              "      <td>243258859</td>\n",
              "    </tr>\n",
              "    <tr>\n",
              "      <th>2</th>\n",
              "      <td>3</td>\n",
              "      <td>Toy Story 2</td>\n",
              "      <td>G</td>\n",
              "      <td>A+</td>\n",
              "      <td>1999-11-24</td>\n",
              "      <td>92</td>\n",
              "      <td>90000000</td>\n",
              "      <td>245852179</td>\n",
              "      <td>265506097</td>\n",
              "      <td>511358276</td>\n",
              "      <td>100</td>\n",
              "      <td>172</td>\n",
              "      <td>88</td>\n",
              "      <td>34</td>\n",
              "      <td>7.9</td>\n",
              "      <td>630573</td>\n",
              "      <td>421358276</td>\n",
              "    </tr>\n",
              "    <tr>\n",
              "      <th>3</th>\n",
              "      <td>4</td>\n",
              "      <td>Monsters, Inc.</td>\n",
              "      <td>G</td>\n",
              "      <td>A+</td>\n",
              "      <td>2001-11-02</td>\n",
              "      <td>92</td>\n",
              "      <td>115000000</td>\n",
              "      <td>255873250</td>\n",
              "      <td>272900000</td>\n",
              "      <td>528773250</td>\n",
              "      <td>96</td>\n",
              "      <td>199</td>\n",
              "      <td>79</td>\n",
              "      <td>35</td>\n",
              "      <td>8.1</td>\n",
              "      <td>1000657</td>\n",
              "      <td>413773250</td>\n",
              "    </tr>\n",
              "    <tr>\n",
              "      <th>4</th>\n",
              "      <td>5</td>\n",
              "      <td>Finding Nemo</td>\n",
              "      <td>G</td>\n",
              "      <td>A+</td>\n",
              "      <td>2003-05-30</td>\n",
              "      <td>100</td>\n",
              "      <td>94000000</td>\n",
              "      <td>339714978</td>\n",
              "      <td>531300000</td>\n",
              "      <td>871014978</td>\n",
              "      <td>99</td>\n",
              "      <td>270</td>\n",
              "      <td>90</td>\n",
              "      <td>38</td>\n",
              "      <td>8.2</td>\n",
              "      <td>1132877</td>\n",
              "      <td>777014978</td>\n",
              "    </tr>\n",
              "    <tr>\n",
              "      <th>5</th>\n",
              "      <td>6</td>\n",
              "      <td>The Incredibles</td>\n",
              "      <td>PG</td>\n",
              "      <td>A+</td>\n",
              "      <td>2004-11-05</td>\n",
              "      <td>115</td>\n",
              "      <td>92000000</td>\n",
              "      <td>261441092</td>\n",
              "      <td>370001000</td>\n",
              "      <td>631442092</td>\n",
              "      <td>97</td>\n",
              "      <td>250</td>\n",
              "      <td>90</td>\n",
              "      <td>41</td>\n",
              "      <td>8.0</td>\n",
              "      <td>828986</td>\n",
              "      <td>539442092</td>\n",
              "    </tr>\n",
              "    <tr>\n",
              "      <th>6</th>\n",
              "      <td>7</td>\n",
              "      <td>Cars</td>\n",
              "      <td>G</td>\n",
              "      <td>A</td>\n",
              "      <td>2006-06-09</td>\n",
              "      <td>116</td>\n",
              "      <td>120000000</td>\n",
              "      <td>244082982</td>\n",
              "      <td>217900167</td>\n",
              "      <td>461983149</td>\n",
              "      <td>75</td>\n",
              "      <td>204</td>\n",
              "      <td>73</td>\n",
              "      <td>39</td>\n",
              "      <td>7.2</td>\n",
              "      <td>484034</td>\n",
              "      <td>341983149</td>\n",
              "    </tr>\n",
              "    <tr>\n",
              "      <th>7</th>\n",
              "      <td>8</td>\n",
              "      <td>Ratatouille</td>\n",
              "      <td>G</td>\n",
              "      <td>A</td>\n",
              "      <td>2007-06-29</td>\n",
              "      <td>111</td>\n",
              "      <td>150000000</td>\n",
              "      <td>206445654</td>\n",
              "      <td>417280431</td>\n",
              "      <td>623726085</td>\n",
              "      <td>96</td>\n",
              "      <td>253</td>\n",
              "      <td>96</td>\n",
              "      <td>37</td>\n",
              "      <td>8.1</td>\n",
              "      <td>851229</td>\n",
              "      <td>473726085</td>\n",
              "    </tr>\n",
              "    <tr>\n",
              "      <th>8</th>\n",
              "      <td>9</td>\n",
              "      <td>WALL-E</td>\n",
              "      <td>G</td>\n",
              "      <td>A</td>\n",
              "      <td>2008-06-27</td>\n",
              "      <td>98</td>\n",
              "      <td>180000000</td>\n",
              "      <td>223808164</td>\n",
              "      <td>297503696</td>\n",
              "      <td>521311860</td>\n",
              "      <td>95</td>\n",
              "      <td>261</td>\n",
              "      <td>95</td>\n",
              "      <td>39</td>\n",
              "      <td>8.4</td>\n",
              "      <td>1226415</td>\n",
              "      <td>341311860</td>\n",
              "    </tr>\n",
              "    <tr>\n",
              "      <th>9</th>\n",
              "      <td>10</td>\n",
              "      <td>Up</td>\n",
              "      <td>PG</td>\n",
              "      <td>A+</td>\n",
              "      <td>2009-05-29</td>\n",
              "      <td>96</td>\n",
              "      <td>175000000</td>\n",
              "      <td>293004164</td>\n",
              "      <td>442094918</td>\n",
              "      <td>735099082</td>\n",
              "      <td>98</td>\n",
              "      <td>297</td>\n",
              "      <td>88</td>\n",
              "      <td>37</td>\n",
              "      <td>8.3</td>\n",
              "      <td>1151249</td>\n",
              "      <td>560099082</td>\n",
              "    </tr>\n",
              "  </tbody>\n",
              "</table>\n",
              "</div>\n",
              "    <div class=\"colab-df-buttons\">\n",
              "\n",
              "  <div class=\"colab-df-container\">\n",
              "    <button class=\"colab-df-convert\" onclick=\"convertToInteractive('df-6ba60fba-1be6-4687-90e5-d82356f94ba0')\"\n",
              "            title=\"Convert this dataframe to an interactive table.\"\n",
              "            style=\"display:none;\">\n",
              "\n",
              "  <svg xmlns=\"http://www.w3.org/2000/svg\" height=\"24px\" viewBox=\"0 -960 960 960\">\n",
              "    <path d=\"M120-120v-720h720v720H120Zm60-500h600v-160H180v160Zm220 220h160v-160H400v160Zm0 220h160v-160H400v160ZM180-400h160v-160H180v160Zm440 0h160v-160H620v160ZM180-180h160v-160H180v160Zm440 0h160v-160H620v160Z\"/>\n",
              "  </svg>\n",
              "    </button>\n",
              "\n",
              "  <style>\n",
              "    .colab-df-container {\n",
              "      display:flex;\n",
              "      gap: 12px;\n",
              "    }\n",
              "\n",
              "    .colab-df-convert {\n",
              "      background-color: #E8F0FE;\n",
              "      border: none;\n",
              "      border-radius: 50%;\n",
              "      cursor: pointer;\n",
              "      display: none;\n",
              "      fill: #1967D2;\n",
              "      height: 32px;\n",
              "      padding: 0 0 0 0;\n",
              "      width: 32px;\n",
              "    }\n",
              "\n",
              "    .colab-df-convert:hover {\n",
              "      background-color: #E2EBFA;\n",
              "      box-shadow: 0px 1px 2px rgba(60, 64, 67, 0.3), 0px 1px 3px 1px rgba(60, 64, 67, 0.15);\n",
              "      fill: #174EA6;\n",
              "    }\n",
              "\n",
              "    .colab-df-buttons div {\n",
              "      margin-bottom: 4px;\n",
              "    }\n",
              "\n",
              "    [theme=dark] .colab-df-convert {\n",
              "      background-color: #3B4455;\n",
              "      fill: #D2E3FC;\n",
              "    }\n",
              "\n",
              "    [theme=dark] .colab-df-convert:hover {\n",
              "      background-color: #434B5C;\n",
              "      box-shadow: 0px 1px 3px 1px rgba(0, 0, 0, 0.15);\n",
              "      filter: drop-shadow(0px 1px 2px rgba(0, 0, 0, 0.3));\n",
              "      fill: #FFFFFF;\n",
              "    }\n",
              "  </style>\n",
              "\n",
              "    <script>\n",
              "      const buttonEl =\n",
              "        document.querySelector('#df-6ba60fba-1be6-4687-90e5-d82356f94ba0 button.colab-df-convert');\n",
              "      buttonEl.style.display =\n",
              "        google.colab.kernel.accessAllowed ? 'block' : 'none';\n",
              "\n",
              "      async function convertToInteractive(key) {\n",
              "        const element = document.querySelector('#df-6ba60fba-1be6-4687-90e5-d82356f94ba0');\n",
              "        const dataTable =\n",
              "          await google.colab.kernel.invokeFunction('convertToInteractive',\n",
              "                                                    [key], {});\n",
              "        if (!dataTable) return;\n",
              "\n",
              "        const docLinkHtml = 'Like what you see? Visit the ' +\n",
              "          '<a target=\"_blank\" href=https://colab.research.google.com/notebooks/data_table.ipynb>data table notebook</a>'\n",
              "          + ' to learn more about interactive tables.';\n",
              "        element.innerHTML = '';\n",
              "        dataTable['output_type'] = 'display_data';\n",
              "        await google.colab.output.renderOutput(dataTable, element);\n",
              "        const docLink = document.createElement('div');\n",
              "        docLink.innerHTML = docLinkHtml;\n",
              "        element.appendChild(docLink);\n",
              "      }\n",
              "    </script>\n",
              "  </div>\n",
              "\n",
              "\n",
              "<div id=\"df-a9f623f7-680b-49f4-9c88-72828d1c72e0\">\n",
              "  <button class=\"colab-df-quickchart\" onclick=\"quickchart('df-a9f623f7-680b-49f4-9c88-72828d1c72e0')\"\n",
              "            title=\"Suggest charts\"\n",
              "            style=\"display:none;\">\n",
              "\n",
              "<svg xmlns=\"http://www.w3.org/2000/svg\" height=\"24px\"viewBox=\"0 0 24 24\"\n",
              "     width=\"24px\">\n",
              "    <g>\n",
              "        <path d=\"M19 3H5c-1.1 0-2 .9-2 2v14c0 1.1.9 2 2 2h14c1.1 0 2-.9 2-2V5c0-1.1-.9-2-2-2zM9 17H7v-7h2v7zm4 0h-2V7h2v10zm4 0h-2v-4h2v4z\"/>\n",
              "    </g>\n",
              "</svg>\n",
              "  </button>\n",
              "\n",
              "<style>\n",
              "  .colab-df-quickchart {\n",
              "      --bg-color: #E8F0FE;\n",
              "      --fill-color: #1967D2;\n",
              "      --hover-bg-color: #E2EBFA;\n",
              "      --hover-fill-color: #174EA6;\n",
              "      --disabled-fill-color: #AAA;\n",
              "      --disabled-bg-color: #DDD;\n",
              "  }\n",
              "\n",
              "  [theme=dark] .colab-df-quickchart {\n",
              "      --bg-color: #3B4455;\n",
              "      --fill-color: #D2E3FC;\n",
              "      --hover-bg-color: #434B5C;\n",
              "      --hover-fill-color: #FFFFFF;\n",
              "      --disabled-bg-color: #3B4455;\n",
              "      --disabled-fill-color: #666;\n",
              "  }\n",
              "\n",
              "  .colab-df-quickchart {\n",
              "    background-color: var(--bg-color);\n",
              "    border: none;\n",
              "    border-radius: 50%;\n",
              "    cursor: pointer;\n",
              "    display: none;\n",
              "    fill: var(--fill-color);\n",
              "    height: 32px;\n",
              "    padding: 0;\n",
              "    width: 32px;\n",
              "  }\n",
              "\n",
              "  .colab-df-quickchart:hover {\n",
              "    background-color: var(--hover-bg-color);\n",
              "    box-shadow: 0 1px 2px rgba(60, 64, 67, 0.3), 0 1px 3px 1px rgba(60, 64, 67, 0.15);\n",
              "    fill: var(--button-hover-fill-color);\n",
              "  }\n",
              "\n",
              "  .colab-df-quickchart-complete:disabled,\n",
              "  .colab-df-quickchart-complete:disabled:hover {\n",
              "    background-color: var(--disabled-bg-color);\n",
              "    fill: var(--disabled-fill-color);\n",
              "    box-shadow: none;\n",
              "  }\n",
              "\n",
              "  .colab-df-spinner {\n",
              "    border: 2px solid var(--fill-color);\n",
              "    border-color: transparent;\n",
              "    border-bottom-color: var(--fill-color);\n",
              "    animation:\n",
              "      spin 1s steps(1) infinite;\n",
              "  }\n",
              "\n",
              "  @keyframes spin {\n",
              "    0% {\n",
              "      border-color: transparent;\n",
              "      border-bottom-color: var(--fill-color);\n",
              "      border-left-color: var(--fill-color);\n",
              "    }\n",
              "    20% {\n",
              "      border-color: transparent;\n",
              "      border-left-color: var(--fill-color);\n",
              "      border-top-color: var(--fill-color);\n",
              "    }\n",
              "    30% {\n",
              "      border-color: transparent;\n",
              "      border-left-color: var(--fill-color);\n",
              "      border-top-color: var(--fill-color);\n",
              "      border-right-color: var(--fill-color);\n",
              "    }\n",
              "    40% {\n",
              "      border-color: transparent;\n",
              "      border-right-color: var(--fill-color);\n",
              "      border-top-color: var(--fill-color);\n",
              "    }\n",
              "    60% {\n",
              "      border-color: transparent;\n",
              "      border-right-color: var(--fill-color);\n",
              "    }\n",
              "    80% {\n",
              "      border-color: transparent;\n",
              "      border-right-color: var(--fill-color);\n",
              "      border-bottom-color: var(--fill-color);\n",
              "    }\n",
              "    90% {\n",
              "      border-color: transparent;\n",
              "      border-bottom-color: var(--fill-color);\n",
              "    }\n",
              "  }\n",
              "</style>\n",
              "\n",
              "  <script>\n",
              "    async function quickchart(key) {\n",
              "      const quickchartButtonEl =\n",
              "        document.querySelector('#' + key + ' button');\n",
              "      quickchartButtonEl.disabled = true;  // To prevent multiple clicks.\n",
              "      quickchartButtonEl.classList.add('colab-df-spinner');\n",
              "      try {\n",
              "        const charts = await google.colab.kernel.invokeFunction(\n",
              "            'suggestCharts', [key], {});\n",
              "      } catch (error) {\n",
              "        console.error('Error during call to suggestCharts:', error);\n",
              "      }\n",
              "      quickchartButtonEl.classList.remove('colab-df-spinner');\n",
              "      quickchartButtonEl.classList.add('colab-df-quickchart-complete');\n",
              "    }\n",
              "    (() => {\n",
              "      let quickchartButtonEl =\n",
              "        document.querySelector('#df-a9f623f7-680b-49f4-9c88-72828d1c72e0 button');\n",
              "      quickchartButtonEl.style.display =\n",
              "        google.colab.kernel.accessAllowed ? 'block' : 'none';\n",
              "    })();\n",
              "  </script>\n",
              "</div>\n",
              "\n",
              "    </div>\n",
              "  </div>\n"
            ],
            "application/vnd.google.colaboratory.intrinsic+json": {
              "type": "dataframe",
              "variable_name": "data",
              "summary": "{\n  \"name\": \"data\",\n  \"rows\": 28,\n  \"fields\": [\n    {\n      \"column\": \"ID\",\n      \"properties\": {\n        \"dtype\": \"number\",\n        \"std\": 8,\n        \"min\": 1,\n        \"max\": 28,\n        \"num_unique_values\": 28,\n        \"samples\": [\n          10,\n          26,\n          9\n        ],\n        \"semantic_type\": \"\",\n        \"description\": \"\"\n      }\n    },\n    {\n      \"column\": \"film\",\n      \"properties\": {\n        \"dtype\": \"string\",\n        \"num_unique_values\": 28,\n        \"samples\": [\n          \"Up\",\n          \"Lightyear\",\n          \"WALL-E\"\n        ],\n        \"semantic_type\": \"\",\n        \"description\": \"\"\n      }\n    },\n    {\n      \"column\": \"film_rating\",\n      \"properties\": {\n        \"dtype\": \"category\",\n        \"num_unique_values\": 2,\n        \"samples\": [\n          \"PG\",\n          \"G\"\n        ],\n        \"semantic_type\": \"\",\n        \"description\": \"\"\n      }\n    },\n    {\n      \"column\": \"cinema_score\",\n      \"properties\": {\n        \"dtype\": \"category\",\n        \"num_unique_values\": 3,\n        \"samples\": [\n          \"A\",\n          \"A+\"\n        ],\n        \"semantic_type\": \"\",\n        \"description\": \"\"\n      }\n    },\n    {\n      \"column\": \"release_date\",\n      \"properties\": {\n        \"dtype\": \"object\",\n        \"num_unique_values\": 28,\n        \"samples\": [\n          \"2009-05-29\",\n          \"2022-06-17\"\n        ],\n        \"semantic_type\": \"\",\n        \"description\": \"\"\n      }\n    },\n    {\n      \"column\": \"run_time\",\n      \"properties\": {\n        \"dtype\": \"number\",\n        \"std\": 8,\n        \"min\": 81,\n        \"max\": 118,\n        \"num_unique_values\": 18,\n        \"samples\": [\n          81,\n          95\n        ],\n        \"semantic_type\": \"\",\n        \"description\": \"\"\n      }\n    },\n    {\n      \"column\": \"budget\",\n      \"properties\": {\n        \"dtype\": \"number\",\n        \"std\": 53820923,\n        \"min\": 0,\n        \"max\": 200000000,\n        \"num_unique_values\": 12,\n        \"samples\": [\n          185000000,\n          200000000\n        ],\n        \"semantic_type\": \"\",\n        \"description\": \"\"\n      }\n    },\n    {\n      \"column\": \"box_office_us_canada\",\n      \"properties\": {\n        \"dtype\": \"number\",\n        \"std\": 163160866,\n        \"min\": 946154,\n        \"max\": 652980194,\n        \"num_unique_values\": 28,\n        \"samples\": [\n          293004164,\n          118307188\n        ],\n        \"semantic_type\": \"\",\n        \"description\": \"\"\n      }\n    },\n    {\n      \"column\": \"box_office_other\",\n      \"properties\": {\n        \"dtype\": \"number\",\n        \"std\": 230011032,\n        \"min\": 20414357,\n        \"max\": 1045050771,\n        \"num_unique_values\": 28,\n        \"samples\": [\n          442094918,\n          108118232\n        ],\n        \"semantic_type\": \"\",\n        \"description\": \"\"\n      }\n    },\n    {\n      \"column\": \"box_office_worldwide\",\n      \"properties\": {\n        \"dtype\": \"number\",\n        \"std\": 382649749,\n        \"min\": 21813358,\n        \"max\": 1698030965,\n        \"num_unique_values\": 28,\n        \"samples\": [\n          735099082,\n          226425420\n        ],\n        \"semantic_type\": \"\",\n        \"description\": \"\"\n      }\n    },\n    {\n      \"column\": \"rotten_tomatoes_score\",\n      \"properties\": {\n        \"dtype\": \"number\",\n        \"std\": 13,\n        \"min\": 40,\n        \"max\": 100,\n        \"num_unique_values\": 19,\n        \"samples\": [\n          100,\n          75\n        ],\n        \"semantic_type\": \"\",\n        \"description\": \"\"\n      }\n    },\n    {\n      \"column\": \"rotten_tomatoes_counts\",\n      \"properties\": {\n        \"dtype\": \"number\",\n        \"std\": 84,\n        \"min\": 91,\n        \"max\": 459,\n        \"num_unique_values\": 26,\n        \"samples\": [\n          261,\n          234\n        ],\n        \"semantic_type\": \"\",\n        \"description\": \"\"\n      }\n    },\n    {\n      \"column\": \"metacritic_score\",\n      \"properties\": {\n        \"dtype\": \"number\",\n        \"std\": 12,\n        \"min\": 57,\n        \"max\": 96,\n        \"num_unique_values\": 23,\n        \"samples\": [\n          81,\n          69\n        ],\n        \"semantic_type\": \"\",\n        \"description\": \"\"\n      }\n    },\n    {\n      \"column\": \"metacritic_counts\",\n      \"properties\": {\n        \"dtype\": \"number\",\n        \"std\": 9,\n        \"min\": 23,\n        \"max\": 59,\n        \"num_unique_values\": 16,\n        \"samples\": [\n          26,\n          23\n        ],\n        \"semantic_type\": \"\",\n        \"description\": \"\"\n      }\n    },\n    {\n      \"column\": \"imdb_score\",\n      \"properties\": {\n        \"dtype\": \"number\",\n        \"std\": 0.6585216728785727,\n        \"min\": 6.1,\n        \"max\": 8.4,\n        \"num_unique_values\": 15,\n        \"samples\": [\n          6.7,\n          7.6\n        ],\n        \"semantic_type\": \"\",\n        \"description\": \"\"\n      }\n    },\n    {\n      \"column\": \"imdb_counts\",\n      \"properties\": {\n        \"dtype\": \"number\",\n        \"std\": 368871,\n        \"min\": 127045,\n        \"max\": 1226415,\n        \"num_unique_values\": 28,\n        \"samples\": [\n          1151249,\n          127045\n        ],\n        \"semantic_type\": \"\",\n        \"description\": \"\"\n      }\n    },\n    {\n      \"column\": \"profit\",\n      \"properties\": {\n        \"dtype\": \"number\",\n        \"std\": 365001561,\n        \"min\": -153186642,\n        \"max\": 1498030965,\n        \"num_unique_values\": 28,\n        \"samples\": [\n          560099082,\n          26425420\n        ],\n        \"semantic_type\": \"\",\n        \"description\": \"\"\n      }\n    }\n  ]\n}"
            }
          },
          "metadata": {},
          "execution_count": 11
        }
      ]
    },
    {
      "cell_type": "code",
      "source": [
        "import matplotlib.pyplot as plt\n",
        "\n",
        "plt.figure(figsize=(10, 5))\n",
        "plt.hist(data[\"profit\"], bins=50, color=\"mediumseagreen\", edgecolor=\"black\")\n",
        "plt.axvline(0, color='red', linestyle='dashed')\n",
        "plt.title(\"Distribuição do Lucro dos Filmes\")\n",
        "plt.xlabel(\"Lucro (em milhões)\")\n",
        "plt.ylabel(\"Número de Filmes\")\n",
        "plt.grid(True)\n",
        "plt.show()\n"
      ],
      "metadata": {
        "colab": {
          "base_uri": "https://localhost:8080/",
          "height": 487
        },
        "id": "vBkHhUOQTVYx",
        "outputId": "d3b33dcc-154b-4503-bfbc-71641d35afc6"
      },
      "execution_count": 10,
      "outputs": [
        {
          "output_type": "display_data",
          "data": {
            "text/plain": [
              "<Figure size 1000x500 with 1 Axes>"
            ],
            "image/png": "[encoded data removed]"
          },
          "metadata": {}
        }
      ]
    },
    {
      "cell_type": "code",
      "source": [
        "# Número total de filmes\n",
        "total = len(data)\n",
        "\n",
        "# Filmes com lucro positivo\n",
        "lucro_positivo = len(data[data[\"profit\"] > 0])\n",
        "\n",
        "# Probabilidade\n",
        "prob_lucro = lucro_positivo / total\n",
        "print(f\"Probabilidade de um filme dar lucro: {prob_lucro:.2%}\")\n"
      ],
      "metadata": {
        "colab": {
          "base_uri": "https://localhost:8080/"
        },
        "id": "oNzrDB80ToNK",
        "outputId": "13400098-ec71-41be-e439-88be6fdd92d5"
      },
      "execution_count": 12,
      "outputs": [
        {
          "output_type": "stream",
          "name": "stdout",
          "text": [
            "Probabilidade de um filme dar lucro: 89.29%\n"
          ]
        }
      ]
    },
    {
      "cell_type": "code",
      "source": [
        "# Vamos checar os nomes das colunas que têm as avaliações\n",
        "data[[\"rotten_tomatoes_score\", \"metacritic_score\", \"imdb_score\"]].head()\n",
        "rt_norm = data[\"rotten_tomatoes_score\"] / 100\n",
        "mc_norm = data[\"metacritic_score\"] / 100\n",
        "imdb_norm = data[\"imdb_score\"] / 10\n",
        "data[\"U\"] = (rt_norm + mc_norm + imdb_norm) / 3\n",
        "data[[\"film\", \"rotten_tomatoes_score\", \"metacritic_score\", \"imdb_score\", \"U\"]].head()\n",
        "\n"
      ],
      "metadata": {
        "colab": {
          "base_uri": "https://localhost:8080/",
          "height": 206
        },
        "id": "K2uIpyq2U9lT",
        "outputId": "fe8e96c6-c132-4478-a209-70c2734fce9e"
      },
      "execution_count": 15,
      "outputs": [
        {
          "output_type": "execute_result",
          "data": {
            "text/plain": [
              "             film  rotten_tomatoes_score  metacritic_score  imdb_score  \\\n",
              "0       Toy Story                    100                95         8.3   \n",
              "1    A Bug's Life                     92                78         7.2   \n",
              "2     Toy Story 2                    100                88         7.9   \n",
              "3  Monsters, Inc.                     96                79         8.1   \n",
              "4    Finding Nemo                     99                90         8.2   \n",
              "\n",
              "          U  \n",
              "0  0.926667  \n",
              "1  0.806667  \n",
              "2  0.890000  \n",
              "3  0.853333  \n",
              "4  0.903333  "
            ],
            "text/html": [
              "\n",
              "  <div id=\"df-fd86c208-217c-43d7-88e0-c639131b0e16\" class=\"colab-df-container\">\n",
              "    <div>\n",
              "<style scoped>\n",
              "    .dataframe tbody tr th:only-of-type {\n",
              "        vertical-align: middle;\n",
              "    }\n",
              "\n",
              "    .dataframe tbody tr th {\n",
              "        vertical-align: top;\n",
              "    }\n",
              "\n",
              "    .dataframe thead th {\n",
              "        text-align: right;\n",
              "    }\n",
              "</style>\n",
              "<table border=\"1\" class=\"dataframe\">\n",
              "  <thead>\n",
              "    <tr style=\"text-align: right;\">\n",
              "      <th></th>\n",
              "      <th>film</th>\n",
              "      <th>rotten_tomatoes_score</th>\n",
              "      <th>metacritic_score</th>\n",
              "      <th>imdb_score</th>\n",
              "      <th>U</th>\n",
              "    </tr>\n",
              "  </thead>\n",
              "  <tbody>\n",
              "    <tr>\n",
              "      <th>0</th>\n",
              "      <td>Toy Story</td>\n",
              "      <td>100</td>\n",
              "      <td>95</td>\n",
              "      <td>8.3</td>\n",
              "      <td>0.926667</td>\n",
              "    </tr>\n",
              "    <tr>\n",
              "      <th>1</th>\n",
              "      <td>A Bug's Life</td>\n",
              "      <td>92</td>\n",
              "      <td>78</td>\n",
              "      <td>7.2</td>\n",
              "      <td>0.806667</td>\n",
              "    </tr>\n",
              "    <tr>\n",
              "      <th>2</th>\n",
              "      <td>Toy Story 2</td>\n",
              "      <td>100</td>\n",
              "      <td>88</td>\n",
              "      <td>7.9</td>\n",
              "      <td>0.890000</td>\n",
              "    </tr>\n",
              "    <tr>\n",
              "      <th>3</th>\n",
              "      <td>Monsters, Inc.</td>\n",
              "      <td>96</td>\n",
              "      <td>79</td>\n",
              "      <td>8.1</td>\n",
              "      <td>0.853333</td>\n",
              "    </tr>\n",
              "    <tr>\n",
              "      <th>4</th>\n",
              "      <td>Finding Nemo</td>\n",
              "      <td>99</td>\n",
              "      <td>90</td>\n",
              "      <td>8.2</td>\n",
              "      <td>0.903333</td>\n",
              "    </tr>\n",
              "  </tbody>\n",
              "</table>\n",
              "</div>\n",
              "    <div class=\"colab-df-buttons\">\n",
              "\n",
              "  <div class=\"colab-df-container\">\n",
              "    <button class=\"colab-df-convert\" onclick=\"convertToInteractive('df-fd86c208-217c-43d7-88e0-c639131b0e16')\"\n",
              "            title=\"Convert this dataframe to an interactive table.\"\n",
              "            style=\"display:none;\">\n",
              "\n",
              "  <svg xmlns=\"http://www.w3.org/2000/svg\" height=\"24px\" viewBox=\"0 -960 960 960\">\n",
              "    <path d=\"M120-120v-720h720v720H120Zm60-500h600v-160H180v160Zm220 220h160v-160H400v160Zm0 220h160v-160H400v160ZM180-400h160v-160H180v160Zm440 0h160v-160H620v160ZM180-180h160v-160H180v160Zm440 0h160v-160H620v160Z\"/>\n",
              "  </svg>\n",
              "    </button>\n",
              "\n",
              "  <style>\n",
              "    .colab-df-container {\n",
              "      display:flex;\n",
              "      gap: 12px;\n",
              "    }\n",
              "\n",
              "    .colab-df-convert {\n",
              "      background-color: #E8F0FE;\n",
              "      border: none;\n",
              "      border-radius: 50%;\n",
              "      cursor: pointer;\n",
              "      display: none;\n",
              "      fill: #1967D2;\n",
              "      height: 32px;\n",
              "      padding: 0 0 0 0;\n",
              "      width: 32px;\n",
              "    }\n",
              "\n",
              "    .colab-df-convert:hover {\n",
              "      background-color: #E2EBFA;\n",
              "      box-shadow: 0px 1px 2px rgba(60, 64, 67, 0.3), 0px 1px 3px 1px rgba(60, 64, 67, 0.15);\n",
              "      fill: #174EA6;\n",
              "    }\n",
              "\n",
              "    .colab-df-buttons div {\n",
              "      margin-bottom: 4px;\n",
              "    }\n",
              "\n",
              "    [theme=dark] .colab-df-convert {\n",
              "      background-color: #3B4455;\n",
              "      fill: #D2E3FC;\n",
              "    }\n",
              "\n",
              "    [theme=dark] .colab-df-convert:hover {\n",
              "      background-color: #434B5C;\n",
              "      box-shadow: 0px 1px 3px 1px rgba(0, 0, 0, 0.15);\n",
              "      filter: drop-shadow(0px 1px 2px rgba(0, 0, 0, 0.3));\n",
              "      fill: #FFFFFF;\n",
              "    }\n",
              "  </style>\n",
              "\n",
              "    <script>\n",
              "      const buttonEl =\n",
              "        document.querySelector('#df-fd86c208-217c-43d7-88e0-c639131b0e16 button.colab-df-convert');\n",
              "      buttonEl.style.display =\n",
              "        google.colab.kernel.accessAllowed ? 'block' : 'none';\n",
              "\n",
              "      async function convertToInteractive(key) {\n",
              "        const element = document.querySelector('#df-fd86c208-217c-43d7-88e0-c639131b0e16');\n",
              "        const dataTable =\n",
              "          await google.colab.kernel.invokeFunction('convertToInteractive',\n",
              "                                                    [key], {});\n",
              "        if (!dataTable) return;\n",
              "\n",
              "        const docLinkHtml = 'Like what you see? Visit the ' +\n",
              "          '<a target=\"_blank\" href=https://colab.research.google.com/notebooks/data_table.ipynb>data table notebook</a>'\n",
              "          + ' to learn more about interactive tables.';\n",
              "        element.innerHTML = '';\n",
              "        dataTable['output_type'] = 'display_data';\n",
              "        await google.colab.output.renderOutput(dataTable, element);\n",
              "        const docLink = document.createElement('div');\n",
              "        docLink.innerHTML = docLinkHtml;\n",
              "        element.appendChild(docLink);\n",
              "      }\n",
              "    </script>\n",
              "  </div>\n",
              "\n",
              "\n",
              "<div id=\"df-23aef8e3-bf74-4765-bf8b-4fb5a9c05bf1\">\n",
              "  <button class=\"colab-df-quickchart\" onclick=\"quickchart('df-23aef8e3-bf74-4765-bf8b-4fb5a9c05bf1')\"\n",
              "            title=\"Suggest charts\"\n",
              "            style=\"display:none;\">\n",
              "\n",
              "<svg xmlns=\"http://www.w3.org/2000/svg\" height=\"24px\"viewBox=\"0 0 24 24\"\n",
              "     width=\"24px\">\n",
              "    <g>\n",
              "        <path d=\"M19 3H5c-1.1 0-2 .9-2 2v14c0 1.1.9 2 2 2h14c1.1 0 2-.9 2-2V5c0-1.1-.9-2-2-2zM9 17H7v-7h2v7zm4 0h-2V7h2v10zm4 0h-2v-4h2v4z\"/>\n",
              "    </g>\n",
              "</svg>\n",
              "  </button>\n",
              "\n",
              "<style>\n",
              "  .colab-df-quickchart {\n",
              "      --bg-color: #E8F0FE;\n",
              "      --fill-color: #1967D2;\n",
              "      --hover-bg-color: #E2EBFA;\n",
              "      --hover-fill-color: #174EA6;\n",
              "      --disabled-fill-color: #AAA;\n",
              "      --disabled-bg-color: #DDD;\n",
              "  }\n",
              "\n",
              "  [theme=dark] .colab-df-quickchart {\n",
              "      --bg-color: #3B4455;\n",
              "      --fill-color: #D2E3FC;\n",
              "      --hover-bg-color: #434B5C;\n",
              "      --hover-fill-color: #FFFFFF;\n",
              "      --disabled-bg-color: #3B4455;\n",
              "      --disabled-fill-color: #666;\n",
              "  }\n",
              "\n",
              "  .colab-df-quickchart {\n",
              "    background-color: var(--bg-color);\n",
              "    border: none;\n",
              "    border-radius: 50%;\n",
              "    cursor: pointer;\n",
              "    display: none;\n",
              "    fill: var(--fill-color);\n",
              "    height: 32px;\n",
              "    padding: 0;\n",
              "    width: 32px;\n",
              "  }\n",
              "\n",
              "  .colab-df-quickchart:hover {\n",
              "    background-color: var(--hover-bg-color);\n",
              "    box-shadow: 0 1px 2px rgba(60, 64, 67, 0.3), 0 1px 3px 1px rgba(60, 64, 67, 0.15);\n",
              "    fill: var(--button-hover-fill-color);\n",
              "  }\n",
              "\n",
              "  .colab-df-quickchart-complete:disabled,\n",
              "  .colab-df-quickchart-complete:disabled:hover {\n",
              "    background-color: var(--disabled-bg-color);\n",
              "    fill: var(--disabled-fill-color);\n",
              "    box-shadow: none;\n",
              "  }\n",
              "\n",
              "  .colab-df-spinner {\n",
              "    border: 2px solid var(--fill-color);\n",
              "    border-color: transparent;\n",
              "    border-bottom-color: var(--fill-color);\n",
              "    animation:\n",
              "      spin 1s steps(1) infinite;\n",
              "  }\n",
              "\n",
              "  @keyframes spin {\n",
              "    0% {\n",
              "      border-color: transparent;\n",
              "      border-bottom-color: var(--fill-color);\n",
              "      border-left-color: var(--fill-color);\n",
              "    }\n",
              "    20% {\n",
              "      border-color: transparent;\n",
              "      border-left-color: var(--fill-color);\n",
              "      border-top-color: var(--fill-color);\n",
              "    }\n",
              "    30% {\n",
              "      border-color: transparent;\n",
              "      border-left-color: var(--fill-color);\n",
              "      border-top-color: var(--fill-color);\n",
              "      border-right-color: var(--fill-color);\n",
              "    }\n",
              "    40% {\n",
              "      border-color: transparent;\n",
              "      border-right-color: var(--fill-color);\n",
              "      border-top-color: var(--fill-color);\n",
              "    }\n",
              "    60% {\n",
              "      border-color: transparent;\n",
              "      border-right-color: var(--fill-color);\n",
              "    }\n",
              "    80% {\n",
              "      border-color: transparent;\n",
              "      border-right-color: var(--fill-color);\n",
              "      border-bottom-color: var(--fill-color);\n",
              "    }\n",
              "    90% {\n",
              "      border-color: transparent;\n",
              "      border-bottom-color: var(--fill-color);\n",
              "    }\n",
              "  }\n",
              "</style>\n",
              "\n",
              "  <script>\n",
              "    async function quickchart(key) {\n",
              "      const quickchartButtonEl =\n",
              "        document.querySelector('#' + key + ' button');\n",
              "      quickchartButtonEl.disabled = true;  // To prevent multiple clicks.\n",
              "      quickchartButtonEl.classList.add('colab-df-spinner');\n",
              "      try {\n",
              "        const charts = await google.colab.kernel.invokeFunction(\n",
              "            'suggestCharts', [key], {});\n",
              "      } catch (error) {\n",
              "        console.error('Error during call to suggestCharts:', error);\n",
              "      }\n",
              "      quickchartButtonEl.classList.remove('colab-df-spinner');\n",
              "      quickchartButtonEl.classList.add('colab-df-quickchart-complete');\n",
              "    }\n",
              "    (() => {\n",
              "      let quickchartButtonEl =\n",
              "        document.querySelector('#df-23aef8e3-bf74-4765-bf8b-4fb5a9c05bf1 button');\n",
              "      quickchartButtonEl.style.display =\n",
              "        google.colab.kernel.accessAllowed ? 'block' : 'none';\n",
              "    })();\n",
              "  </script>\n",
              "</div>\n",
              "\n",
              "    </div>\n",
              "  </div>\n"
            ],
            "application/vnd.google.colaboratory.intrinsic+json": {
              "type": "dataframe",
              "summary": "{\n  \"name\": \"data[[\\\"film\\\", \\\"rotten_tomatoes_score\\\", \\\"metacritic_score\\\", \\\"imdb_score\\\", \\\"U\\\"]]\",\n  \"rows\": 5,\n  \"fields\": [\n    {\n      \"column\": \"film\",\n      \"properties\": {\n        \"dtype\": \"string\",\n        \"num_unique_values\": 5,\n        \"samples\": [\n          \"A Bug's Life\",\n          \"Finding Nemo\",\n          \"Toy Story 2\"\n        ],\n        \"semantic_type\": \"\",\n        \"description\": \"\"\n      }\n    },\n    {\n      \"column\": \"rotten_tomatoes_score\",\n      \"properties\": {\n        \"dtype\": \"number\",\n        \"std\": 3,\n        \"min\": 92,\n        \"max\": 100,\n        \"num_unique_values\": 4,\n        \"samples\": [\n          92,\n          99,\n          100\n        ],\n        \"semantic_type\": \"\",\n        \"description\": \"\"\n      }\n    },\n    {\n      \"column\": \"metacritic_score\",\n      \"properties\": {\n        \"dtype\": \"number\",\n        \"std\": 7,\n        \"min\": 78,\n        \"max\": 95,\n        \"num_unique_values\": 5,\n        \"samples\": [\n          78,\n          90,\n          88\n        ],\n        \"semantic_type\": \"\",\n        \"description\": \"\"\n      }\n    },\n    {\n      \"column\": \"imdb_score\",\n      \"properties\": {\n        \"dtype\": \"number\",\n        \"std\": 0.43931765272977585,\n        \"min\": 7.2,\n        \"max\": 8.3,\n        \"num_unique_values\": 5,\n        \"samples\": [\n          7.2,\n          8.2,\n          7.9\n        ],\n        \"semantic_type\": \"\",\n        \"description\": \"\"\n      }\n    },\n    {\n      \"column\": \"U\",\n      \"properties\": {\n        \"dtype\": \"number\",\n        \"std\": 0.046986995836909816,\n        \"min\": 0.8066666666666666,\n        \"max\": 0.9266666666666667,\n        \"num_unique_values\": 5,\n        \"samples\": [\n          0.8066666666666666,\n          0.9033333333333333,\n          0.89\n        ],\n        \"semantic_type\": \"\",\n        \"description\": \"\"\n      }\n    }\n  ]\n}"
            }
          },
          "metadata": {},
          "execution_count": 15
        }
      ]
    },
    {
      "cell_type": "code",
      "source": [
        "#Esse gráfico vai mostrar cada filme como um ponto. A posição horizontal indica o quanto o filme foi bem avaliado (U), e a posição vertical mostra o lucro (profit).\n",
        "# Se a nuvem de pontos subir conforme U aumenta, pode indicar que filmes bem avaliados tendem a lucrar mais.\n",
        "import matplotlib.pyplot as plt\n",
        "import seaborn as sns\n",
        "\n",
        "# Estilo visual mais bonito\n",
        "sns.set(style=\"whitegrid\")\n",
        "\n",
        "# Criação do gráfico de dispersão\n",
        "plt.figure(figsize=(10, 6))\n",
        "sns.scatterplot(data=data, x=\"U\", y=\"profit\")\n",
        "\n",
        "# Títulos e rótulos\n",
        "plt.title(\"Relação entre Aceitação Crítica (U) e Lucro dos Filmes\", fontsize=14)\n",
        "plt.xlabel(\"Aceitação Crítica (U)\", fontsize=12)\n",
        "plt.ylabel(\"Lucro (Profit)\", fontsize=12)\n",
        "\n",
        "plt.tight_layout()\n",
        "plt.show()\n"
      ],
      "metadata": {
        "colab": {
          "base_uri": "https://localhost:8080/",
          "height": 601
        },
        "id": "CgDrqLe1VtV8",
        "outputId": "b92a1fd7-dc46-4881-8057-3a6fb4571b20"
      },
      "execution_count": 17,
      "outputs": [
        {
          "output_type": "display_data",
          "data": {
            "text/plain": [
              "<Figure size 1000x600 with 1 Axes>"
            ],
            "image/png": "[encoded data removed]"
          },
          "metadata": {}
        }
      ]
    },
    {
      "cell_type": "code",
      "source": [
        "#Cada ponto representa a média de avaliação de um filme considerando Rotten Tomatoes, Metacritic e IMDb.\n",
        "# Os 5 filmes mais bem avaliados aparecem em vermelho, com os valores destacados.\n",
        "# Isso ajuda a visualizar quais filmes se destacam em aceitação da crítica de forma clara.\n",
        "\n",
        "import matplotlib.pyplot as plt\n",
        "import seaborn as sns\n",
        "\n",
        "# Ordenar os filmes por aceitação geral\n",
        "top5 = data.sort_values(\"U\", ascending=False).head(5)\n",
        "\n",
        "# Plotando todos os filmes como pontos\n",
        "plt.figure(figsize=(14, 6))\n",
        "sns.scatterplot(data=data, x=\"film\", y=\"U\", color=\"gray\", label=\"Filmes\")\n",
        "sns.scatterplot(data=top5, x=\"film\", y=\"U\", color=\"red\", label=\"Top 5\")\n",
        "\n",
        "# Destaque dos Top 5\n",
        "for i in range(len(top5)):\n",
        "    plt.text(x=top5[\"film\"].iloc[i],\n",
        "             y=top5[\"U\"].iloc[i]+0.01,\n",
        "             s=round(top5[\"U\"].iloc[i], 2),\n",
        "             color=\"red\",\n",
        "             ha='center')\n",
        "\n",
        "plt.xticks(rotation=90)\n",
        "plt.xlabel(\"Filme\")\n",
        "plt.ylabel(\"Aceitação Geral (U)\")\n",
        "plt.title(\"Aceitação Geral da Crítica (U) dos Filmes - Destaque para os Top 5\")\n",
        "plt.legend()\n",
        "plt.tight_layout()\n",
        "plt.show()\n"
      ],
      "metadata": {
        "colab": {
          "base_uri": "https://localhost:8080/",
          "height": 601
        },
        "id": "EYbY4YjpV6EC",
        "outputId": "64f3d4da-389c-417b-8e27-1d2185f1f07f"
      },
      "execution_count": 18,
      "outputs": [
        {
          "output_type": "display_data",
          "data": {
            "text/plain": [
              "<Figure size 1400x600 with 1 Axes>"
            ],
            "image/png": "[encoded data removed]"
          },
          "metadata": {}
        }
      ]
    }
  ]
}