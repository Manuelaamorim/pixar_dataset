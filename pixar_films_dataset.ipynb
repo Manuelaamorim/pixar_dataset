{
  "nbformat": 4,
  "nbformat_minor": 0,
  "metadata": {
    "colab": {
      "provenance": [],
      "authorship_tag": "ABX9TyOUotGLHEtrOhyB3nCGq86C",
      "include_colab_link": true
    },
    "kernelspec": {
      "name": "python3",
      "display_name": "Python 3"
    },
    "language_info": {
      "name": "python"
    }
  },
  "cells": [
    {
      "cell_type": "markdown",
      "metadata": {
        "id": "view-in-github",
        "colab_type": "text"
      },
      "source": [
        "<a href=\"https://colab.research.google.com/github/Manuelaamorim/pixar_dataset/blob/main/pixar_films_dataset.ipynb\" target=\"_parent\"><img src=\"https://colab.research.google.com/assets/colab-badge.svg\" alt=\"Open In Colab\"/></a>"
      ]
    },
    {
      "cell_type": "code",
      "execution_count": 2,
      "metadata": {
        "id": "u2Bsc7o7iywc"
      },
      "outputs": [],
      "source": [
        "import pandas as pd\n",
        "import numpy as np"
      ]
    },
    {
      "cell_type": "code",
      "source": [
        "from google.colab import files\n",
        "uploaded = files.upload()"
      ],
      "metadata": {
        "colab": {
          "base_uri": "https://localhost:8080/",
          "height": 73
        },
        "id": "ek1QXeo3jBTR",
        "outputId": "cf19e5e1-c0d0-4243-af47-74bd062e1206"
      },
      "execution_count": 3,
      "outputs": [
        {
          "output_type": "display_data",
          "data": {
            "text/plain": [
              "<IPython.core.display.HTML object>"
            ],
            "text/html": [
              "\n",
              "     <input type=\"file\" id=\"files-2e46441a-0092-4a81-8448-a6d8a91be534\" name=\"files[]\" multiple disabled\n",
              "        style=\"border:none\" />\n",
              "     <output id=\"result-2e46441a-0092-4a81-8448-a6d8a91be534\">\n",
              "      Upload widget is only available when the cell has been executed in the\n",
              "      current browser session. Please rerun this cell to enable.\n",
              "      </output>\n",
              "      <script>// Copyright 2017 Google LLC\n",
              "//\n",
              "// Licensed under the Apache License, Version 2.0 (the \"License\");\n",
              "// you may not use this file except in compliance with the License.\n",
              "// You may obtain a copy of the License at\n",
              "//\n",
              "//      http://www.apache.org/licenses/LICENSE-2.0\n",
              "//\n",
              "// Unless required by applicable law or agreed to in writing, software\n",
              "// distributed under the License is distributed on an \"AS IS\" BASIS,\n",
              "// WITHOUT WARRANTIES OR CONDITIONS OF ANY KIND, either express or implied.\n",
              "// See the License for the specific language governing permissions and\n",
              "// limitations under the License.\n",
              "\n",
              "/**\n",
              " * @fileoverview Helpers for google.colab Python module.\n",
              " */\n",
              "(function(scope) {\n",
              "function span(text, styleAttributes = {}) {\n",
              "  const element = document.createElement('span');\n",
              "  element.textContent = text;\n",
              "  for (const key of Object.keys(styleAttributes)) {\n",
              "    element.style[key] = styleAttributes[key];\n",
              "  }\n",
              "  return element;\n",
              "}\n",
              "\n",
              "// Max number of bytes which will be uploaded at a time.\n",
              "const MAX_PAYLOAD_SIZE = 100 * 1024;\n",
              "\n",
              "function _uploadFiles(inputId, outputId) {\n",
              "  const steps = uploadFilesStep(inputId, outputId);\n",
              "  const outputElement = document.getElementById(outputId);\n",
              "  // Cache steps on the outputElement to make it available for the next call\n",
              "  // to uploadFilesContinue from Python.\n",
              "  outputElement.steps = steps;\n",
              "\n",
              "  return _uploadFilesContinue(outputId);\n",
              "}\n",
              "\n",
              "// This is roughly an async generator (not supported in the browser yet),\n",
              "// where there are multiple asynchronous steps and the Python side is going\n",
              "// to poll for completion of each step.\n",
              "// This uses a Promise to block the python side on completion of each step,\n",
              "// then passes the result of the previous step as the input to the next step.\n",
              "function _uploadFilesContinue(outputId) {\n",
              "  const outputElement = document.getElementById(outputId);\n",
              "  const steps = outputElement.steps;\n",
              "\n",
              "  const next = steps.next(outputElement.lastPromiseValue);\n",
              "  return Promise.resolve(next.value.promise).then((value) => {\n",
              "    // Cache the last promise value to make it available to the next\n",
              "    // step of the generator.\n",
              "    outputElement.lastPromiseValue = value;\n",
              "    return next.value.response;\n",
              "  });\n",
              "}\n",
              "\n",
              "/**\n",
              " * Generator function which is called between each async step of the upload\n",
              " * process.\n",
              " * @param {string} inputId Element ID of the input file picker element.\n",
              " * @param {string} outputId Element ID of the output display.\n",
              " * @return {!Iterable<!Object>} Iterable of next steps.\n",
              " */\n",
              "function* uploadFilesStep(inputId, outputId) {\n",
              "  const inputElement = document.getElementById(inputId);\n",
              "  inputElement.disabled = false;\n",
              "\n",
              "  const outputElement = document.getElementById(outputId);\n",
              "  outputElement.innerHTML = '';\n",
              "\n",
              "  const pickedPromise = new Promise((resolve) => {\n",
              "    inputElement.addEventListener('change', (e) => {\n",
              "      resolve(e.target.files);\n",
              "    });\n",
              "  });\n",
              "\n",
              "  const cancel = document.createElement('button');\n",
              "  inputElement.parentElement.appendChild(cancel);\n",
              "  cancel.textContent = 'Cancel upload';\n",
              "  const cancelPromise = new Promise((resolve) => {\n",
              "    cancel.onclick = () => {\n",
              "      resolve(null);\n",
              "    };\n",
              "  });\n",
              "\n",
              "  // Wait for the user to pick the files.\n",
              "  const files = yield {\n",
              "    promise: Promise.race([pickedPromise, cancelPromise]),\n",
              "    response: {\n",
              "      action: 'starting',\n",
              "    }\n",
              "  };\n",
              "\n",
              "  cancel.remove();\n",
              "\n",
              "  // Disable the input element since further picks are not allowed.\n",
              "  inputElement.disabled = true;\n",
              "\n",
              "  if (!files) {\n",
              "    return {\n",
              "      response: {\n",
              "        action: 'complete',\n",
              "      }\n",
              "    };\n",
              "  }\n",
              "\n",
              "  for (const file of files) {\n",
              "    const li = document.createElement('li');\n",
              "    li.append(span(file.name, {fontWeight: 'bold'}));\n",
              "    li.append(span(\n",
              "        `(${file.type || 'n/a'}) - ${file.size} bytes, ` +\n",
              "        `last modified: ${\n",
              "            file.lastModifiedDate ? file.lastModifiedDate.toLocaleDateString() :\n",
              "                                    'n/a'} - `));\n",
              "    const percent = span('0% done');\n",
              "    li.appendChild(percent);\n",
              "\n",
              "    outputElement.appendChild(li);\n",
              "\n",
              "    const fileDataPromise = new Promise((resolve) => {\n",
              "      const reader = new FileReader();\n",
              "      reader.onload = (e) => {\n",
              "        resolve(e.target.result);\n",
              "      };\n",
              "      reader.readAsArrayBuffer(file);\n",
              "    });\n",
              "    // Wait for the data to be ready.\n",
              "    let fileData = yield {\n",
              "      promise: fileDataPromise,\n",
              "      response: {\n",
              "        action: 'continue',\n",
              "      }\n",
              "    };\n",
              "\n",
              "    // Use a chunked sending to avoid message size limits. See b/62115660.\n",
              "    let position = 0;\n",
              "    do {\n",
              "      const length = Math.min(fileData.byteLength - position, MAX_PAYLOAD_SIZE);\n",
              "      const chunk = new Uint8Array(fileData, position, length);\n",
              "      position += length;\n",
              "\n",
              "      const base64 = btoa(String.fromCharCode.apply(null, chunk));\n",
              "      yield {\n",
              "        response: {\n",
              "          action: 'append',\n",
              "          file: file.name,\n",
              "          data: base64,\n",
              "        },\n",
              "      };\n",
              "\n",
              "      let percentDone = fileData.byteLength === 0 ?\n",
              "          100 :\n",
              "          Math.round((position / fileData.byteLength) * 100);\n",
              "      percent.textContent = `${percentDone}% done`;\n",
              "\n",
              "    } while (position < fileData.byteLength);\n",
              "  }\n",
              "\n",
              "  // All done.\n",
              "  yield {\n",
              "    response: {\n",
              "      action: 'complete',\n",
              "    }\n",
              "  };\n",
              "}\n",
              "\n",
              "scope.google = scope.google || {};\n",
              "scope.google.colab = scope.google.colab || {};\n",
              "scope.google.colab._files = {\n",
              "  _uploadFiles,\n",
              "  _uploadFilesContinue,\n",
              "};\n",
              "})(self);\n",
              "</script> "
            ]
          },
          "metadata": {}
        },
        {
          "output_type": "stream",
          "name": "stdout",
          "text": [
            "Saving films.csv to films.csv\n"
          ]
        }
      ]
    },
    {
      "cell_type": "code",
      "source": [
        "data = pd.read_csv(\"films.csv\")\n",
        "print('Dataset Head:')\n",
        "print(data.head())\n",
        "\n",
        "print('\\nDataset Info:')\n",
        "print(data.info())\n",
        "\n",
        "print('\\nSumário de Estatísticas:')\n",
        "print(data.describe(include='all'))\n",
        "\n",
        "\n",
        "\n"
      ],
      "metadata": {
        "colab": {
          "base_uri": "https://localhost:8080/"
        },
        "id": "g1fv4lzXjWXl",
        "outputId": "c7335232-025a-4899-c5aa-334d9e76efc9"
      },
      "execution_count": 21,
      "outputs": [
        {
          "output_type": "stream",
          "name": "stdout",
          "text": [
            "Dataset Head:\n",
            "   ID            film film_rating cinema_score release_date  run_time  \\\n",
            "0   1       Toy Story           G            A   1995-11-22        81   \n",
            "1   2    A Bug's Life           G            A   1998-11-25        95   \n",
            "2   3     Toy Story 2           G           A+   1999-11-24        92   \n",
            "3   4  Monsters, Inc.           G           A+   2001-11-02        92   \n",
            "4   5    Finding Nemo           G           A+   2003-05-30       100   \n",
            "\n",
            "      budget  box_office_us_canada  box_office_other  box_office_worldwide  \\\n",
            "0   30000000             223225679         171210907             394436586   \n",
            "1  120000000             162798565         200460294             363258859   \n",
            "2   90000000             245852179         265506097             511358276   \n",
            "3  115000000             255873250         272900000             528773250   \n",
            "4   94000000             339714978         531300000             871014978   \n",
            "\n",
            "   rotten_tomatoes_score  rotten_tomatoes_counts  metacritic_score  \\\n",
            "0                    100                      96                95   \n",
            "1                     92                      91                78   \n",
            "2                    100                     172                88   \n",
            "3                     96                     199                79   \n",
            "4                     99                     270                90   \n",
            "\n",
            "   metacritic_counts  imdb_score  imdb_counts  \n",
            "0                 26         8.3      1089101  \n",
            "1                 23         7.2       319596  \n",
            "2                 34         7.9       630573  \n",
            "3                 35         8.1      1000657  \n",
            "4                 38         8.2      1132877  \n",
            "\n",
            "Dataset Info:\n",
            "<class 'pandas.core.frame.DataFrame'>\n",
            "RangeIndex: 28 entries, 0 to 27\n",
            "Data columns (total 16 columns):\n",
            " #   Column                  Non-Null Count  Dtype  \n",
            "---  ------                  --------------  -----  \n",
            " 0   ID                      28 non-null     int64  \n",
            " 1   film                    28 non-null     object \n",
            " 2   film_rating             28 non-null     object \n",
            " 3   cinema_score            25 non-null     object \n",
            " 4   release_date            28 non-null     object \n",
            " 5   run_time                28 non-null     int64  \n",
            " 6   budget                  28 non-null     int64  \n",
            " 7   box_office_us_canada    28 non-null     int64  \n",
            " 8   box_office_other        28 non-null     int64  \n",
            " 9   box_office_worldwide    28 non-null     int64  \n",
            " 10  rotten_tomatoes_score   28 non-null     int64  \n",
            " 11  rotten_tomatoes_counts  28 non-null     int64  \n",
            " 12  metacritic_score        28 non-null     int64  \n",
            " 13  metacritic_counts       28 non-null     int64  \n",
            " 14  imdb_score              28 non-null     float64\n",
            " 15  imdb_counts             28 non-null     int64  \n",
            "dtypes: float64(1), int64(11), object(4)\n",
            "memory usage: 3.6+ KB\n",
            "None\n",
            "\n",
            "Sumário de Estatísticas:\n",
            "               ID       film film_rating cinema_score release_date  \\\n",
            "count   28.000000         28          28           25           28   \n",
            "unique        NaN         28           2            3           28   \n",
            "top           NaN  Toy Story          PG            A   1995-11-22   \n",
            "freq          NaN          1          15           15            1   \n",
            "mean    14.500000        NaN         NaN          NaN          NaN   \n",
            "std      8.225975        NaN         NaN          NaN          NaN   \n",
            "min      1.000000        NaN         NaN          NaN          NaN   \n",
            "25%      7.750000        NaN         NaN          NaN          NaN   \n",
            "50%     14.500000        NaN         NaN          NaN          NaN   \n",
            "75%     21.250000        NaN         NaN          NaN          NaN   \n",
            "max     28.000000        NaN         NaN          NaN          NaN   \n",
            "\n",
            "          run_time        budget  box_office_us_canada  box_office_other  \\\n",
            "count    28.000000  2.800000e+01          2.800000e+01      2.800000e+01   \n",
            "unique         NaN           NaN                   NaN               NaN   \n",
            "top            NaN           NaN                   NaN               NaN   \n",
            "freq           NaN           NaN                   NaN               NaN   \n",
            "mean    100.392857  1.553929e+08          2.475444e+08      3.611199e+08   \n",
            "std       8.047725  5.382092e+07          1.631609e+08      2.300110e+08   \n",
            "min      81.000000  0.000000e+00          9.461540e+05      2.041436e+07   \n",
            "25%      95.000000  1.200000e+08          1.540453e+08      2.069555e+08   \n",
            "50%     100.000000  1.750000e+08          2.305457e+08      3.218588e+08   \n",
            "75%     104.250000  2.000000e+08          3.046819e+08      5.086871e+08   \n",
            "max     118.000000  2.000000e+08          6.529802e+08      1.045051e+09   \n",
            "\n",
            "        box_office_worldwide  rotten_tomatoes_score  rotten_tomatoes_counts  \\\n",
            "count           2.800000e+01              28.000000               28.000000   \n",
            "unique                   NaN                    NaN                     NaN   \n",
            "top                      NaN                    NaN                     NaN   \n",
            "freq                     NaN                    NaN                     NaN   \n",
            "mean            6.086643e+08              88.357143              273.821429   \n",
            "std             3.826497e+08              13.447330               84.248773   \n",
            "min             2.181336e+07              40.000000               91.000000   \n",
            "25%             3.787627e+08              79.750000              220.000000   \n",
            "50%             5.338782e+08              94.500000              266.000000   \n",
            "75%             8.253837e+08              97.000000              324.000000   \n",
            "max             1.698031e+09             100.000000              459.000000   \n",
            "\n",
            "        metacritic_score  metacritic_counts  imdb_score   imdb_counts  \n",
            "count          28.000000          28.000000   28.000000  2.800000e+01  \n",
            "unique               NaN                NaN         NaN           NaN  \n",
            "top                  NaN                NaN         NaN           NaN  \n",
            "freq                 NaN                NaN         NaN           NaN  \n",
            "mean           78.142857          43.464286    7.542857  5.256077e+05  \n",
            "std            12.408821           9.558716    0.658522  3.688713e+05  \n",
            "min            57.000000          23.000000    6.100000  1.270450e+05  \n",
            "25%            68.250000          37.000000    7.175000  1.955322e+05  \n",
            "50%            79.500000          41.000000    7.550000  3.958430e+05  \n",
            "75%            88.500000          52.000000    8.100000  8.385082e+05  \n",
            "max            96.000000          59.000000    8.400000  1.226415e+06  \n"
          ]
        }
      ]
    },
    {
      "cell_type": "markdown",
      "source": [
        "### Probabilidade simples\n"
      ],
      "metadata": {
        "id": "a8byp6UU1Nuo"
      }
    },
    {
      "cell_type": "code",
      "source": [
        "# probabilidade simples de um filme ter nota superior a 7 no IMDB\n",
        "total_filmes = len(data)\n",
        "maior = sum(1 for score in data['imdb_score'] if score > 7)\n",
        "probabilidade_imdb = maior/total_filmes\n",
        "print(f\"Probabilidade de um filme ter IMDB > 7: {probabilidade_imdb}\")"
      ],
      "metadata": {
        "colab": {
          "base_uri": "https://localhost:8080/"
        },
        "id": "NSdpj1vLs6jq",
        "outputId": "1dff1b2a-0508-4852-bd15-6374d0884deb"
      },
      "execution_count": 9,
      "outputs": [
        {
          "output_type": "stream",
          "name": "stdout",
          "text": [
            "Probabilidade de um filme ter IMDB > 7: 0.7857142857142857\n"
          ]
        }
      ]
    },
    {
      "cell_type": "code",
      "source": [
        "# probabilidade simples de um filme ser classificado como PG\n",
        "total_filmes = len(data)\n",
        "filmes_pg = sum(1 for rating in data['film_rating'] if rating == \"PG\")\n",
        "prob_pg = filmes_pg / total_filmes\n",
        "print(f\"Probabilidade de um filme ser PG: {prob_pg}\")\n",
        "\n"
      ],
      "metadata": {
        "colab": {
          "base_uri": "https://localhost:8080/"
        },
        "id": "3cDApyMhtXga",
        "outputId": "806543ab-59a2-4937-f1ff-08ff4309a8b7"
      },
      "execution_count": 11,
      "outputs": [
        {
          "output_type": "stream",
          "name": "stdout",
          "text": [
            "Probabilidade de um filme ser PG: 0.5357142857142857\n",
            "['G' 'PG']\n"
          ]
        }
      ]
    },
    {
      "cell_type": "code",
      "source": [
        "# Probabilidade de quantos filmes têm Rotten Tomatoes Score maior que 70\n",
        "filmes_rotten_maior_70 = sum(1 for score in data['rotten_tomatoes_score'] if score > 70)\n",
        "prob_rotten = filmes_rotten_maior_70 / total_filmes\n",
        "\n",
        "print(f\"Probabilidade de um filme ter Rotten Tomatoes Score > 70: {prob_rotten}\")\n"
      ],
      "metadata": {
        "colab": {
          "base_uri": "https://localhost:8080/"
        },
        "id": "OGTU90tgvg92",
        "outputId": "5deee17b-397c-460a-d356-fb0285e105d8"
      },
      "execution_count": 13,
      "outputs": [
        {
          "output_type": "stream",
          "name": "stdout",
          "text": [
            "Probabilidade de um filme ter Rotten Tomatoes Score > 70: 0.9285714285714286\n"
          ]
        }
      ]
    },
    {
      "cell_type": "code",
      "source": [
        "# Probabilidade simples dos filmes terem orçamento acima de 50M\n",
        "filmes_orcamento_maior_50M = sum(1 for budget in data['budget'] if budget > 50000000)\n",
        "prob_orcamento = filmes_orcamento_maior_50M / total_filmes\n",
        "\n",
        "print(f\"Probabilidade de um filme ter orçamento > 50M: {prob_orcamento}\")\n"
      ],
      "metadata": {
        "colab": {
          "base_uri": "https://localhost:8080/"
        },
        "id": "nKpkWSaGuuig",
        "outputId": "86e587fe-43a0-49f7-dd63-f92895fe1efd"
      },
      "execution_count": 12,
      "outputs": [
        {
          "output_type": "stream",
          "name": "stdout",
          "text": [
            "Probabilidade de um filme ter orçamento > 50M: 0.93\n"
          ]
        }
      ]
    },
    {
      "cell_type": "markdown",
      "source": [
        "### Probabilidade com união"
      ],
      "metadata": {
        "id": "eD_1p8eF0_bH"
      }
    },
    {
      "cell_type": "code",
      "source": [
        "# Probabilidade de um filme ter bilheteria nos EUA/Canadá > 50 milhões OU bilheteria no resto do mundo > 100 milhões"
      ],
      "metadata": {
        "id": "_DOcymh3wXbf"
      },
      "execution_count": null,
      "outputs": []
    },
    {
      "cell_type": "code",
      "source": [
        "# Contar filmes com bilheteria nos EUA/Canadá > 50M\n",
        "filmes_us_maior_50M = sum(1 for box in data['box_office_us_canada'] if box > 50000000)\n",
        "\n",
        "# Contar filmes com bilheteria internacional > 100M\n",
        "filmes_outro_maior_100M = sum(1 for box in data['box_office_other'] if box > 100000000)\n",
        "\n",
        "# Contar filmes que atendem ambas as condições\n",
        "filmes_ambos = sum(1 for us, outro in zip(data['box_office_us_canada'], data['box_office_other']) if us > 50000000 and outro > 100000000)\n",
        "\n",
        "# Calcular P(A ∪ B)\n",
        "prob_uniao = (filmes_us_maior_50M + filmes_outro_maior_100M - filmes_ambos) / total_filmes\n",
        "\n",
        "print(f\"Probabilidade de um filme ter bilheteria EUA/Canadá > 50M OU internacional > 100M: {prob_uniao}\")\n"
      ],
      "metadata": {
        "colab": {
          "base_uri": "https://localhost:8080/"
        },
        "id": "6tY_iEwvyv2y",
        "outputId": "64ac8eb4-6cec-4d81-c0dc-eabb4886f225"
      },
      "execution_count": 14,
      "outputs": [
        {
          "output_type": "stream",
          "name": "stdout",
          "text": [
            "Probabilidade de um filme ter bilheteria EUA/Canadá > 50M OU internacional > 100M: 0.9285714285714286\n"
          ]
        }
      ]
    },
    {
      "cell_type": "code",
      "source": [
        "# Probabilidade de um filme ter mais de 1000 avaliações no IMDb OU nota IMDb maior que 8\n",
        "# Contar filmes com mais de 1000 avaliações no IMDb\n",
        "filmes_imdb_contagem_maior_1000 = sum(1 for count in data['imdb_counts'] if count > 1000)\n",
        "\n",
        "# Contar filmes com IMDb Score > 8\n",
        "filmes_imdb_maior_8 = sum(1 for score in data['imdb_score'] if score > 8)\n",
        "\n",
        "# Contar filmes que atendem ambas as condições\n",
        "filmes_ambos = sum(1 for count, score in zip(data['imdb_counts'], data['imdb_score']) if count > 1000 and score > 8)\n",
        "\n",
        "# Calcular P(A ∪ B)\n",
        "prob_uniao = (filmes_imdb_contagem_maior_1000 + filmes_imdb_maior_8 - filmes_ambos) / total_filmes\n",
        "\n",
        "print(f\"Probabilidade de um filme ter mais de 1000 avaliações no IMDb OU nota > 8: {prob_uniao}\")\n"
      ],
      "metadata": {
        "colab": {
          "base_uri": "https://localhost:8080/"
        },
        "id": "xFSeL0Y2zpcX",
        "outputId": "fd2056ff-d6d3-414d-bb60-c2b7c22b2920"
      },
      "execution_count": 15,
      "outputs": [
        {
          "output_type": "stream",
          "name": "stdout",
          "text": [
            "Probabilidade de um filme ter mais de 1000 avaliações no IMDb OU nota > 8: 1.0\n"
          ]
        }
      ]
    },
    {
      "cell_type": "code",
      "source": [
        "# Probabilidade de um filme ter orçamento > 50M OU bilheteria mundial > 100M:\n",
        "total_filmes = len(data)\n",
        "\n",
        "\n",
        "A = np.array(data['budget']) > 50000000  # Filmes com orçamento > 50M\n",
        "B = np.array(data['box_office_worldwide']) > 100000000  # Filmes com bilheteria > 100M\n",
        "\n",
        "# Calcular as probabilidades usando NumPy\n",
        "P_A = np.sum(A) / total_filmes  # Probabilidade de A (budget > 50M)\n",
        "P_B = np.sum(B) / total_filmes  # Probabilidade de B (bilheteria mundial > 100M)\n",
        "P_A_inter_B = np.sum(A & B) / total_filmes  # Probabilidade da interseção (A ∩ B)\n",
        "\n",
        "# Aplicar a fórmula de união\n",
        "P_A_uniao_B = P_A + P_B - P_A_inter_B\n",
        "\n",
        "# Exibir o resultado formatado\n",
        "print(f\"Probabilidade de um filme ter orçamento > 50M OU bilheteria mundial > 100M: {P_A_uniao_B}\")\n"
      ],
      "metadata": {
        "colab": {
          "base_uri": "https://localhost:8080/"
        },
        "id": "GOqJzoHk0n6a",
        "outputId": "9fd2411c-49a6-4ad3-b98d-01a0ad1ff0f2"
      },
      "execution_count": 17,
      "outputs": [
        {
          "output_type": "stream",
          "name": "stdout",
          "text": [
            "Probabilidade de um filme ter orçamento > 50M OU bilheteria mundial > 100M: 0.9642857142857143\n"
          ]
        }
      ]
    },
    {
      "cell_type": "markdown",
      "source": [
        "### Probabilidade com intersecção"
      ],
      "metadata": {
        "id": "d7L0JVUv4KNx"
      }
    },
    {
      "cell_type": "code",
      "source": [
        "# Probabilidade de um filme ser classificado como \"PG-13\" E ter uma bilheteira mundial superior a 100 milhões"
      ],
      "metadata": {
        "id": "NCxbfeaq4JyH"
      },
      "execution_count": null,
      "outputs": []
    },
    {
      "cell_type": "code",
      "source": [
        "# Filmes com classificação \"PG-13\" e bilheteira mundial > 100M\n",
        "PG_maior_100M = len(data[((data['film_rating'] == 'PG') & (data['box_office_worldwide'] > 100000000))])\n",
        "\n",
        "# Probabilidade\n",
        "prob_PG_maior_100M = PG_maior_100M / len(data)\n",
        "print(f'A probabilidade de um filme ser PG e ter bilheteira mundial > 100M é de : {round(prob_PG_maior_100M * 100, 4)}%')\n"
      ],
      "metadata": {
        "colab": {
          "base_uri": "https://localhost:8080/"
        },
        "id": "MzKkGPE35JL2",
        "outputId": "d6bdd50b-9bae-4b2b-9e36-c3fb3ee3ab54"
      },
      "execution_count": 19,
      "outputs": [
        {
          "output_type": "stream",
          "name": "stdout",
          "text": [
            "A probabilidade de um filme ser PG e ter bilheteira mundial > 100M é de : 46.4286%\n"
          ]
        }
      ]
    },
    {
      "cell_type": "code",
      "source": [
        "# Probabilidade de um filme com orçamento superior a 50 milhões E com um IMDB score maior que 8\n",
        "# Filmes com orçamento > 50M e IMDb > 8\n",
        "orçamento_maior = len(data[((data['budget'] > 50000000) & (data['imdb_score'] > 8))])\n",
        "\n",
        "# Probabilidade\n",
        "prob_orc = orçamento_maior / len(data)\n",
        "print(f'A probabilidade de um filme ter orçamento > 50M e IMDb > 8 é de : {round(prob_orc * 100, 4)}%')\n"
      ],
      "metadata": {
        "colab": {
          "base_uri": "https://localhost:8080/"
        },
        "id": "U6tT8I5K5iZ5",
        "outputId": "12fee01b-38ba-4de4-8bad-e58193c0813d"
      },
      "execution_count": 20,
      "outputs": [
        {
          "output_type": "stream",
          "name": "stdout",
          "text": [
            "A probabilidade de um filme ter orçamento > 50M e IMDb > 8 é de : 28.5714%\n"
          ]
        }
      ]
    },
    {
      "cell_type": "code",
      "source": [
        "# Probabilidade de um filme ter um \"cinema_score\" bom (>= 70) E ter uma duração superior a 90 minutos"
      ],
      "metadata": {
        "id": "04o1RNhm7WIJ"
      },
      "execution_count": 27,
      "outputs": []
    },
    {
      "cell_type": "code",
      "source": [
        "# Mapeamento de cinema_score para valores numéricos\n",
        "cinema_score_map = {\n",
        "    'A+': 100,\n",
        "    'A': 90,\n",
        "    'A-': 85,\n",
        "    'B+': 80,\n",
        "    'B': 70,\n",
        "    'B-': 65,\n",
        "    'C+': 60,\n",
        "    'C': 50,\n",
        "    'C-': 45,\n",
        "    'D': 30,\n",
        "    'F': 0\n",
        "}\n",
        "\n",
        "# Substitui as classificações de cinema_score pelas notas numéricas\n",
        "data['cinema_score'] = data['cinema_score'].map(cinema_score_map)\n",
        "\n",
        "# Filmes com cinema_score >= 70 e runtime > 90 minutos\n",
        "calculo = len(data[(data['cinema_score'] >= 70) & (data['run_time'] > 90)])\n",
        "\n",
        "# Total de filmes no dataset\n",
        "total_filmes = len(data)\n",
        "\n",
        "# Probabilidade de interseção (cinema_score >= 70 E runtime > 90)\n",
        "prob_interseccao_cinema_runtime = calculo / total_filmes\n",
        "\n",
        "print(f'A probabilidade de um filme ter cinema_score >= 70 e runtime > 90 minutos é de : {round(prob_interseccao_cinema_runtime * 100, 4)}%')\n",
        "\n"
      ],
      "metadata": {
        "colab": {
          "base_uri": "https://localhost:8080/"
        },
        "id": "qCpYP1xA7X7L",
        "outputId": "e53e27ec-6cc6-4dda-d270-8f827f4562bd"
      },
      "execution_count": 29,
      "outputs": [
        {
          "output_type": "stream",
          "name": "stdout",
          "text": [
            "A probabilidade de um filme ter cinema_score >= 70 e runtime > 90 minutos é de : 0.0%\n"
          ]
        }
      ]
    }
  ]
}